{
  "cells": [
    {
      "cell_type": "markdown",
      "source": [
        "## $\\color{olive}{\\text{Before we begin...}}$\n",
        "\n",
        "Click [here](https://docs.google.com/spreadsheets/d/1aqjG6ef9P7X_MPLSKN6wLCKn0z22tX94ILbfLWoDxRY/edit?usp=sharing) to open a sheet in google drive\n",
        "\n",
        "Open this sheet, and find the row with your name. In each column, enter the following information:\n",
        "\n",
        "1) Name\n",
        "\n",
        "2) Age\n",
        "\n",
        "3) Pets: Number of pets\n",
        "\n",
        "4) ScreenTime: Average daily screen time (in hours)\n",
        "\n",
        "5) Siblings: Number of siblings\n",
        "\n",
        "6) Height (in cm)\n",
        "\n",
        "7) Following: How many people you follow on your favourite social media?\n",
        "\n",
        "8) SocialMedia: Favourite social media\n",
        "  - Snapchat = SC\n",
        "  - Facebook = FB\n",
        "  - Instagram = IG\n",
        "  - X\n",
        "  - TikTok\n",
        "  "
      ],
      "metadata": {
        "id": "wC_Xq6-1m-eX"
      },
      "id": "wC_Xq6-1m-eX"
    },
    {
      "cell_type": "markdown",
      "source": [
        "# $\\color{violet}{\\text{Welcome To Data Science Camp!}}$\n",
        "\n",
        "## $\\color{olive}{\\text{What is Data Science?}}$\n",
        "\n",
        "- Data science is a  field that uses techniques from statistics, computer science, and domain expertise to extract insights and knowledge from data\n",
        "- Data science includes:\n",
        "  - Data Collection\n",
        "  - Data Cleaning\n",
        "  - Exploratory Data Analysis (EDA)\n",
        "    - Visualizing and summarizing data to understand patterns.\n",
        "  - Statistical Modeling & Machine Learning\n",
        "- In this camp we will focus on Exploratory Data Analysis!"
      ],
      "metadata": {
        "id": "Qti9GYQ5ezMB"
      },
      "id": "Qti9GYQ5ezMB"
    },
    {
      "cell_type": "markdown",
      "source": [
        "\n",
        "# $\\color{cyan}{\\text{Learning to Work With R}}$\n",
        "\n",
        "- We will be analyzing the datasets using a computer programming language called R.\n",
        "\n",
        "- Before we begin our data analysis, lets learn some of the basics to the coding language.\n",
        "\n",
        "- We can perform basic operation in R such as addition, multiplication, exponents, subtraction and division.\n",
        "\n",
        "- **NOTE**: To put comments into R we can use # then type whatever your comment is. This is a line in the code that is not run.\n",
        "\n",
        "- **NOTE**: To run a chunk of code in this notebook, hit the play button to the left of the code chunk.\n",
        "\n",
        "- Let's try it! If we want to find the answer to $(5+2)^2 -6 \\div 3$ we can input this into R as:"
      ],
      "metadata": {
        "id": "NbzQWBZqvfYX"
      },
      "id": "NbzQWBZqvfYX"
    },
    {
      "cell_type": "code",
      "source": [
        "#this is a comment! This will not run. Rather, it is a note for the coder.\n",
        "(5+2)^2 -6/3"
      ],
      "metadata": {
        "colab": {
          "base_uri": "https://localhost:8080/",
          "height": 34
        },
        "id": "TJhoqzARNTAh",
        "outputId": "8763d951-7a31-43c3-d41b-dbb7acf9d978"
      },
      "id": "TJhoqzARNTAh",
      "execution_count": null,
      "outputs": [
        {
          "output_type": "display_data",
          "data": {
            "text/html": [
              "47"
            ],
            "text/markdown": "47",
            "text/latex": "47",
            "text/plain": [
              "[1] 47"
            ]
          },
          "metadata": {}
        }
      ]
    },
    {
      "cell_type": "markdown",
      "source": [
        "### $\\color{magenta}{\\text{Your Turn!}}$\n",
        "\n",
        " In the code chunk below, compute $(5-2)^2 +12 \\div 4$"
      ],
      "metadata": {
        "id": "ECP4t8wlNSqg"
      },
      "id": "ECP4t8wlNSqg"
    },
    {
      "cell_type": "code",
      "source": [
        "#enter your code here."
      ],
      "metadata": {
        "id": "GPW0xUtRN4yi"
      },
      "id": "GPW0xUtRN4yi",
      "execution_count": null,
      "outputs": []
    },
    {
      "cell_type": "markdown",
      "source": [
        "## $\\color{olive}{\\text{Functions}}$\n",
        "\n",
        "\n",
        "\n",
        "\n",
        "Great work! Now we will talk about funcitons.\n",
        "\n",
        "A function in coding is a chunk of code that performs a specific task. For example, in R the function sqrt() will find the square root of a number.\n",
        "\n",
        "The value we put into the brackets is the \"argument\" of the function. Let's find the square root of 9, for example."
      ],
      "metadata": {
        "id": "OTMeidpzN9Dq"
      },
      "id": "OTMeidpzN9Dq"
    },
    {
      "cell_type": "code",
      "source": [
        "sqrt(9)"
      ],
      "metadata": {
        "id": "MneIZdvzOdW_"
      },
      "id": "MneIZdvzOdW_",
      "execution_count": null,
      "outputs": []
    },
    {
      "cell_type": "markdown",
      "source": [
        "### $\\color{magenta}{\\text{Your Turn!}}$\n",
        "\n",
        " Find the square root of 49 using the sqaure root function."
      ],
      "metadata": {
        "id": "i6c95MuTOgYY"
      },
      "id": "i6c95MuTOgYY"
    },
    {
      "cell_type": "code",
      "source": [
        "#enter your code here"
      ],
      "metadata": {
        "id": "39d_OUzJOkRr"
      },
      "id": "39d_OUzJOkRr",
      "execution_count": null,
      "outputs": []
    },
    {
      "cell_type": "markdown",
      "source": [
        "Great job! In R we can also print out words using the print function, and putting the string of words in quotations. For example we can make R return \"Hello World!\""
      ],
      "metadata": {
        "id": "mUil4v64On5h"
      },
      "id": "mUil4v64On5h"
    },
    {
      "cell_type": "code",
      "source": [
        "print(\"Hello World\") #Run this line of code by hitting the \"play\" button"
      ],
      "metadata": {
        "id": "fnQPyxoeO2sY"
      },
      "id": "fnQPyxoeO2sY",
      "execution_count": null,
      "outputs": []
    },
    {
      "cell_type": "markdown",
      "source": [
        "### $\\color{magenta}{\\text{Your Turn!}}$\n",
        "\n",
        " Make R print out \"My name is [your name here]\""
      ],
      "metadata": {
        "id": "ZgVFAaWLO-I8"
      },
      "id": "ZgVFAaWLO-I8"
    },
    {
      "cell_type": "code",
      "source": [
        "#Enter your code here"
      ],
      "metadata": {
        "id": "b-_LPIzqO7VM"
      },
      "id": "b-_LPIzqO7VM",
      "execution_count": null,
      "outputs": []
    },
    {
      "cell_type": "markdown",
      "source": [
        "## $\\color{olive}{\\text{ Mean, Median, Mode, and Range}}$\n",
        "\n",
        "There are many things a data scientist might be interested in. Some summary values that are important include: Mean, Median, Mode, and Range.\n",
        "\n",
        "To investigate these concepts we will use some fake data. Our data consists of 10 values:\n",
        "  - 19, 17, 12, 17, 20, 18, 3, 8, 4, 1\n",
        "\n",
        "We will store this data in a **vector** that we will assign a name. This is called a **variable**\n",
        "  - A variable is like a name you give to something so the computer can remember it for you.\n",
        "  - In R, you use a variable when you want to save a number, word, or idea and use it later.\n",
        "  - A vector is like a list of things that all go together. It’s a way to keep a bunch of items together."
      ],
      "metadata": {
        "id": "CODkcOIbcaUT"
      },
      "id": "CODkcOIbcaUT"
    },
    {
      "cell_type": "code",
      "source": [
        "#Let's make a vector, but not save it as a variable\n",
        "c(19, 17, 12, 17, 20, 18, 3, 8, 4, 1)\n",
        "#We want to be able to access this information later, so we will save it as a variable called \"x\"\n",
        "x = c(19, 17, 12, 17, 20, 18, 3, 8, 4, 1)"
      ],
      "metadata": {
        "colab": {
          "base_uri": "https://localhost:8080/",
          "height": 34
        },
        "id": "MNYFZAN050GS",
        "outputId": "a146c169-ceeb-4837-f822-a29774481636"
      },
      "id": "MNYFZAN050GS",
      "execution_count": null,
      "outputs": [
        {
          "output_type": "display_data",
          "data": {
            "text/html": [
              "<style>\n",
              ".list-inline {list-style: none; margin:0; padding: 0}\n",
              ".list-inline>li {display: inline-block}\n",
              ".list-inline>li:not(:last-child)::after {content: \"\\00b7\"; padding: 0 .5ex}\n",
              "</style>\n",
              "<ol class=list-inline><li>19</li><li>17</li><li>12</li><li>17</li><li>20</li><li>18</li><li>3</li><li>8</li><li>4</li><li>1</li></ol>\n"
            ],
            "text/markdown": "1. 19\n2. 17\n3. 12\n4. 17\n5. 20\n6. 18\n7. 3\n8. 8\n9. 4\n10. 1\n\n\n",
            "text/latex": "\\begin{enumerate*}\n\\item 19\n\\item 17\n\\item 12\n\\item 17\n\\item 20\n\\item 18\n\\item 3\n\\item 8\n\\item 4\n\\item 1\n\\end{enumerate*}\n",
            "text/plain": [
              " [1] 19 17 12 17 20 18  3  8  4  1"
            ]
          },
          "metadata": {}
        }
      ]
    },
    {
      "cell_type": "markdown",
      "source": [
        "### $\\color{cyan}{\\text{Mode}}$\n",
        "\n",
        "- Mode means the most common value in a group of things. It’s the one that shows up the most!\n",
        "- From my fake data \"x\", we can see the mode is 17. It shows up twice, while all the other data shows up once.\n",
        "- We can get the mode in R by using the table() function.\n",
        "  - The table() function counts how many times each item shows up in a list.\n",
        "  - It makes a mini chart that tells you:\n",
        "    - What items are in the list\n",
        "    - How often each one appear"
      ],
      "metadata": {
        "id": "ne2fHJVhW1r1"
      },
      "id": "ne2fHJVhW1r1"
    },
    {
      "cell_type": "code",
      "source": [
        "table(x)"
      ],
      "metadata": {
        "colab": {
          "base_uri": "https://localhost:8080/",
          "height": 71
        },
        "id": "1kY1de3kXI_4",
        "outputId": "ae93326e-79b9-4e9f-8e4c-450c1df0ebd1"
      },
      "id": "1kY1de3kXI_4",
      "execution_count": null,
      "outputs": [
        {
          "output_type": "display_data",
          "data": {
            "text/plain": [
              "x\n",
              " 1  3  4  8 12 17 18 19 20 \n",
              " 1  1  1  1  1  2  1  1  1 "
            ]
          },
          "metadata": {}
        }
      ]
    },
    {
      "cell_type": "markdown",
      "source": [
        "### $\\color{cyan}{\\text{Mean}}$\n",
        "- The mean is what most people call the average. It tells you what the numbers are like on average.\n",
        "-  How Do You Find the Mean?\n",
        "  - Add up all the numbers.\n",
        "  - Divide by how many numbers there are.\n",
        "\n",
        "For our example, the average or mean is: $(19+ 17+ 12+ 17+ 20+ 18+ 3+ 8+ 4+ 1) \\div 10 = 11.9$\n",
        "\n",
        "- In R we can use the mean() function to easily calculate the mean of a vector.\n",
        "\n",
        "\n"
      ],
      "metadata": {
        "id": "CKnzJDWx6tSv"
      },
      "id": "CKnzJDWx6tSv"
    },
    {
      "cell_type": "code",
      "source": [
        "mean(x)"
      ],
      "metadata": {
        "colab": {
          "base_uri": "https://localhost:8080/",
          "height": 34
        },
        "id": "3UG7VSiE6NUc",
        "outputId": "8f8d7306-588f-4b8f-bbb3-933e6a1dd368"
      },
      "id": "3UG7VSiE6NUc",
      "execution_count": null,
      "outputs": [
        {
          "output_type": "display_data",
          "data": {
            "text/html": [
              "11.9"
            ],
            "text/markdown": "11.9",
            "text/latex": "11.9",
            "text/plain": [
              "[1] 11.9"
            ]
          },
          "metadata": {}
        }
      ]
    },
    {
      "cell_type": "markdown",
      "source": [
        "### $\\color{cyan}{\\text{Median}}$\n",
        "\n",
        "- The median is the middle number in a list of numbers.\n",
        "- First, you put the numbers in order (from smallest to biggest). Then, you find the one in the middle. That’s the median!\n",
        "- If there are two numbers in the middle, you take the average of them. That is the median!\n",
        "\n",
        "For our example, we sort or data smallest to largest:\n",
        "  - 1, 3, 4, 8, 12, 17, 17, 18, 19, 20\n",
        "Here 12 and 17 are both in the middle, so the median is $(12+17)\\div 2 = 14.5$\n",
        "\n",
        "We can use the R function median() to easily compute the median of our vector."
      ],
      "metadata": {
        "id": "aBmOrUID8XRJ"
      },
      "id": "aBmOrUID8XRJ"
    },
    {
      "cell_type": "code",
      "source": [
        "median(x)"
      ],
      "metadata": {
        "colab": {
          "base_uri": "https://localhost:8080/",
          "height": 34
        },
        "id": "LQoKkJ0N7CUx",
        "outputId": "b0b6e083-64c2-4dd7-9f2d-4f9925b7d416"
      },
      "id": "LQoKkJ0N7CUx",
      "execution_count": null,
      "outputs": [
        {
          "output_type": "display_data",
          "data": {
            "text/html": [
              "14.5"
            ],
            "text/markdown": "14.5",
            "text/latex": "14.5",
            "text/plain": [
              "[1] 14.5"
            ]
          },
          "metadata": {}
        }
      ]
    },
    {
      "cell_type": "markdown",
      "source": [
        "### $\\color{cyan}{\\text{Range}}$\n",
        "\n",
        "The range tells you how spread out the numbers are. It is the difference between the biggest and smallest number.\n",
        "\n",
        "For our dataset the range is $20-1=19$\n",
        "\n",
        "We can use the function max() and min() in R to find out maximumn and minimum values, then we subtract them."
      ],
      "metadata": {
        "id": "qJi4Iprw7LtJ"
      },
      "id": "qJi4Iprw7LtJ"
    },
    {
      "cell_type": "code",
      "source": [
        "max(x)-min(x)"
      ],
      "metadata": {
        "colab": {
          "base_uri": "https://localhost:8080/",
          "height": 34
        },
        "id": "EEP336rU7eSF",
        "outputId": "055fb0ca-7859-4477-e94e-fa3111fe5998"
      },
      "id": "EEP336rU7eSF",
      "execution_count": null,
      "outputs": [
        {
          "output_type": "display_data",
          "data": {
            "text/html": [
              "19"
            ],
            "text/markdown": "19",
            "text/latex": "19",
            "text/plain": [
              "[1] 19"
            ]
          },
          "metadata": {}
        }
      ]
    },
    {
      "cell_type": "markdown",
      "source": [
        "### $\\color{magenta}{\\text{Your Turn!}}$\n",
        "\n"
      ],
      "metadata": {
        "id": "lnsn4X2l7Esx"
      },
      "id": "lnsn4X2l7Esx"
    },
    {
      "cell_type": "markdown",
      "source": [
        "Consider a collection of numbers:  2, 3, 10, 4, 19, 8, 4, 12, 4, 19,  5, 1\n",
        "\n",
        "Use R to find the mean, median, mode and range of the data!"
      ],
      "metadata": {
        "id": "Te-2iQYn7w2F"
      },
      "id": "Te-2iQYn7w2F"
    },
    {
      "cell_type": "code",
      "source": [
        "#Enter your code here."
      ],
      "metadata": {
        "id": "sncnQdW28QN4"
      },
      "id": "sncnQdW28QN4",
      "execution_count": null,
      "outputs": []
    },
    {
      "cell_type": "markdown",
      "source": [
        "## $\\color{olive}{\\text{Collecting Data}}$\n"
      ],
      "metadata": {
        "id": "4gNRM_hjm8j8"
      },
      "id": "4gNRM_hjm8j8"
    },
    {
      "cell_type": "markdown",
      "source": [
        "\n",
        "\n",
        "I am interested in some information about my friends! I will ask my friends the following information in a survery:\n",
        "  - Name, Age, number of pets, average daily screen time, number of siblings, height, how many people you follow on your favourite social media, favourite social media\n",
        "\n",
        "After handing out a survey we gathered the following information:\n",
        "\n",
        "- Danika\n",
        "  - Age: 27\n",
        "  - Number of pets: 1\n",
        "  - Average daily screen time: 9.5 hours\n",
        "  - Number of siblings: 1\n",
        "  - height: 172cm\n",
        "  - How many people you follow on your favourite social media: 452\n",
        "  - Favourite social media: instagram\n",
        "- Thuntida\n",
        "  - Age: 40\n",
        "  - Number of pets: 1\n",
        "  - Average daily screen time: 8hours\n",
        "  - Number of siblings: 1\n",
        "  - height: 158cm\n",
        "  - How many people you follow on your favourite social media: 310\n",
        "  - Favourite social media: instagram\n",
        "- Placida\n",
        "  - Age: 40\n",
        "  - Number of pets: 0\n",
        "  - Average daily screen time: 4\n",
        "  - Number of siblings: 2\n",
        "  - height: 162.5cm\n",
        "  - How many people you follow on your favourite social media: 112\n",
        "  - Favourite social media: facebook\n",
        "- Marco\n",
        "  - Age: 47\n",
        "  - Number of pets: 3\n",
        "  - Average daily screen time: 7.2hours\n",
        "  - Number of siblings: 2\n",
        "  - height: 181cm\n",
        "  - How many people you follow on your favourite social media: 300\n",
        "  - Favourite social media: X\n",
        "- Alvin\n",
        "  - Age: 32\n",
        "  - Number of pets: 1\n",
        "  - Average daily screen time: 15.3hours\n",
        "  - Number of siblings: 2\n",
        "  - height: 155cm\n",
        "  - How many people you follow on your favourite social media: 232\n",
        "  - Favourite social media: TikTok\n",
        "- Veronica\n",
        "  - Age: 31\n",
        "  - Number of pets: 2\n",
        "  - Average daily screen time: 5.2hours\n",
        "  - Number of siblings: 3\n",
        "  - height: 170cm\n",
        "  - How many people you follow on your favourite social media: 83\n",
        "  - Favourite social media: TikTok\n",
        "- Don\n",
        "  - Age: 41\n",
        "  - Number of pets: 0\n",
        "  - Average daily screen time: 11.1 hours\n",
        "  - Number of siblings: 1\n",
        "  - height: 151cm\n",
        "  - How many people you follow on your favourite social media: 230\n",
        "  - Favourite social media: instagram\n",
        "- Ryan\n",
        "  - Age: 35\n",
        "  - Number of pets: 1\n",
        "  - Average daily screen time: 13.3 hours\n",
        "  - Number of siblings: 3\n",
        "  - height: 196cm\n",
        "  - How many people you follow on your favourite social media: 336\n",
        "  - Favourite social media: TikTok\n",
        "- Maggie\n",
        "  - Age: 42\n",
        "  - Number of pets: 2\n",
        "  - Average daily screen time: 10.5 hours\n",
        "  - Number of siblings: 0\n",
        "  - height: 147cm\n",
        "  - How many people you follow on your favourite social media: 269\n",
        "  - Favourite social media: facebook\n",
        "- Aaron\n",
        "  - Age: 36\n",
        "  - Number of pets: 4\n",
        "  - Average daily screen time: 10.8 hours\n",
        "  - Number of siblings: 2\n",
        "  - height: 156cm\n",
        "  - How many people you follow on your favourite social media: 244\n",
        "  - Favourite social media:snapchat\n",
        "- Scott\n",
        "  - Age: 29\n",
        "  - Number of pets: 2\n",
        "  - Average daily screen time: 7.3 hours\n",
        "  - Number of siblings: 5\n",
        "  - height: 141cm\n",
        "  - How many people you follow on your favourite social media: 176\n",
        "  - Favourite social media: snapchat\n",
        "\n",
        "  **We need to put this data into R! We will start by storing the information in vector variables. I will name these variables something informative.**\n",
        "\n",
        "  **We need to make sure we enter the information in the correct order**"
      ],
      "metadata": {
        "id": "xtN7a2QMaPsR"
      },
      "id": "xtN7a2QMaPsR"
    },
    {
      "cell_type": "code",
      "source": [
        "Name = c(\"Danika\", \"Thuntida\", \"Placida\", \"Marco\", \"Alvin\", \"Veronica\", \"Don\", \"Ryan\", \"Maggie\", \"Aaron\", \"Scott\")\n",
        "Age = c(27, 40, 40, 47, 32, 31, 41, 35, 42, 36, 29)\n",
        "Pets = c(1, 1, 0, 3, 1, 2, 0, 1, 2, 4, 2)\n",
        "ScreenTime = c(9.5, 8, 4, 7.2, 15.3, 5.2, 11.1, 13.3, 10.5, 10.8, 7.3)\n",
        "Siblings = c(1, 1, 2, 2, 2, 3, 1, 3, 0, 2, 5)\n",
        "Height = c(172, 158, 162.5, 181, 155, 170, 151, 196, 147, 156, 141)\n",
        "Following = c(425, 310, 112, 300, 232, 83, 230, 336, 269, 244, 176)\n",
        "SocialMedia = c(\"IG\", \"IG\", \"FB\", \"X\", \"TikTok\", \"TikTok\", \"IG\", \"TikTok\", \"FB\", \"SC\", \"SC\")"
      ],
      "metadata": {
        "id": "P1gc75HS1NXs"
      },
      "id": "P1gc75HS1NXs",
      "execution_count": null,
      "outputs": []
    },
    {
      "cell_type": "markdown",
      "source": [
        "Now that we have the data all stored in vectors, we can combine the vectors into what we call a data frame. Each row will contain information about about a different sample/person. Each column represents a type of information."
      ],
      "metadata": {
        "id": "RsnIwpkm8ai5"
      },
      "id": "RsnIwpkm8ai5"
    },
    {
      "cell_type": "code",
      "source": [
        "#Put the information into a dataframe called dataframe1\n",
        "dataframe1= data.frame(Name,Age,Pets,ScreenTime,Siblings,Height,Following,SocialMedia)\n",
        "#Now we cant print out the dataframe to look at it\n",
        "\n",
        "print(dataframe1)"
      ],
      "metadata": {
        "colab": {
          "base_uri": "https://localhost:8080/"
        },
        "id": "MT8ID3yp8xyj",
        "outputId": "102f4a4c-3d86-4bb5-e49b-119ae51c286c"
      },
      "id": "MT8ID3yp8xyj",
      "execution_count": null,
      "outputs": [
        {
          "output_type": "stream",
          "name": "stdout",
          "text": [
            "       Name Age Pets ScreenTime Siblings Height Following SocialMedia\n",
            "1    Danika  27    1        9.5        1  172.0       425          IG\n",
            "2  Thuntida  40    1        8.0        1  158.0       310          IG\n",
            "3   Placida  40    0        4.0        2  162.5       112          FB\n",
            "4     Marco  47    3        7.2        2  181.0       300           X\n",
            "5     Alvin  32    1       15.3        2  155.0       232      TikTok\n",
            "6  Veronica  31    2        5.2        3  170.0        83      TikTok\n",
            "7       Don  41    0       11.1        1  151.0       230          IG\n",
            "8      Ryan  35    1       13.3        3  196.0       336      TikTok\n",
            "9    Maggie  42    2       10.5        0  147.0       269          FB\n",
            "10    Aaron  36    4       10.8        2  156.0       244          SC\n",
            "11    Scott  29    2        7.3        5  141.0       176          SC\n"
          ]
        }
      ]
    },
    {
      "cell_type": "markdown",
      "source": [
        "It turns out that we have access to the csv file of this data in GitHub! If we have the data stored in github, we can easily import the data.\n",
        "\n",
        "- Step 1: Visit the github repository where the data is.\n",
        "  - https://github.com/DanikaLipman/JuniorHighDataScienceCamp\n",
        "- Step 2: Open the csv file. In this case it is called dataframe1.csv\n",
        "- Step 3: There should be a button that says \"raw\". CLick this button\n",
        "- Step 4: copy the url.\n",
        "- Step 5:"
      ],
      "metadata": {
        "id": "el0MXjWC5oxf"
      },
      "id": "el0MXjWC5oxf"
    },
    {
      "cell_type": "code",
      "source": [
        "dataframe1 = read.csv(\"https://raw.githubusercontent.com/DanikaLipman/JuniorHighDataScienceCamp/refs/heads/main/dataframe1.csv\", row.names = 1)\n",
        "dataframe1"
      ],
      "metadata": {
        "colab": {
          "base_uri": "https://localhost:8080/",
          "height": 443
        },
        "id": "QYbMqgYyl5sB",
        "outputId": "47666c50-e982-4b8d-cc82-1734ff274c3b"
      },
      "id": "QYbMqgYyl5sB",
      "execution_count": 5,
      "outputs": [
        {
          "output_type": "display_data",
          "data": {
            "text/html": [
              "<table class=\"dataframe\">\n",
              "<caption>A data.frame: 11 × 8</caption>\n",
              "<thead>\n",
              "\t<tr><th></th><th scope=col>Name</th><th scope=col>Age</th><th scope=col>Pets</th><th scope=col>ScreenTime</th><th scope=col>Siblings</th><th scope=col>Height</th><th scope=col>Following</th><th scope=col>SocialMedia</th></tr>\n",
              "\t<tr><th></th><th scope=col>&lt;chr&gt;</th><th scope=col>&lt;int&gt;</th><th scope=col>&lt;int&gt;</th><th scope=col>&lt;dbl&gt;</th><th scope=col>&lt;int&gt;</th><th scope=col>&lt;dbl&gt;</th><th scope=col>&lt;int&gt;</th><th scope=col>&lt;chr&gt;</th></tr>\n",
              "</thead>\n",
              "<tbody>\n",
              "\t<tr><th scope=row>1</th><td>Danika  </td><td>27</td><td>1</td><td> 9.5</td><td>1</td><td>172.0</td><td>425</td><td>IG    </td></tr>\n",
              "\t<tr><th scope=row>2</th><td>Thuntida</td><td>40</td><td>1</td><td> 8.0</td><td>1</td><td>158.0</td><td>310</td><td>IG    </td></tr>\n",
              "\t<tr><th scope=row>3</th><td>Placida </td><td>40</td><td>0</td><td> 4.0</td><td>2</td><td>162.5</td><td>112</td><td>FB    </td></tr>\n",
              "\t<tr><th scope=row>4</th><td>Marco   </td><td>47</td><td>3</td><td> 7.2</td><td>2</td><td>181.0</td><td>300</td><td>X     </td></tr>\n",
              "\t<tr><th scope=row>5</th><td>Alvin   </td><td>32</td><td>1</td><td>15.3</td><td>2</td><td>155.0</td><td>232</td><td>TikTok</td></tr>\n",
              "\t<tr><th scope=row>6</th><td>Veronica</td><td>31</td><td>2</td><td> 5.2</td><td>3</td><td>170.0</td><td> 83</td><td>TikTok</td></tr>\n",
              "\t<tr><th scope=row>7</th><td>Don     </td><td>41</td><td>0</td><td>11.1</td><td>1</td><td>151.0</td><td>230</td><td>IG    </td></tr>\n",
              "\t<tr><th scope=row>8</th><td>Ryan    </td><td>35</td><td>1</td><td>13.3</td><td>3</td><td>196.0</td><td>336</td><td>TikTok</td></tr>\n",
              "\t<tr><th scope=row>9</th><td>Maggie  </td><td>42</td><td>2</td><td>10.5</td><td>0</td><td>147.0</td><td>269</td><td>FB    </td></tr>\n",
              "\t<tr><th scope=row>10</th><td>Aaron   </td><td>36</td><td>4</td><td>10.8</td><td>2</td><td>156.0</td><td>244</td><td>SC    </td></tr>\n",
              "\t<tr><th scope=row>11</th><td>Scott   </td><td>29</td><td>2</td><td> 7.3</td><td>5</td><td>141.0</td><td>176</td><td>SC    </td></tr>\n",
              "</tbody>\n",
              "</table>\n"
            ],
            "text/markdown": "\nA data.frame: 11 × 8\n\n| <!--/--> | Name &lt;chr&gt; | Age &lt;int&gt; | Pets &lt;int&gt; | ScreenTime &lt;dbl&gt; | Siblings &lt;int&gt; | Height &lt;dbl&gt; | Following &lt;int&gt; | SocialMedia &lt;chr&gt; |\n|---|---|---|---|---|---|---|---|---|\n| 1 | Danika   | 27 | 1 |  9.5 | 1 | 172.0 | 425 | IG     |\n| 2 | Thuntida | 40 | 1 |  8.0 | 1 | 158.0 | 310 | IG     |\n| 3 | Placida  | 40 | 0 |  4.0 | 2 | 162.5 | 112 | FB     |\n| 4 | Marco    | 47 | 3 |  7.2 | 2 | 181.0 | 300 | X      |\n| 5 | Alvin    | 32 | 1 | 15.3 | 2 | 155.0 | 232 | TikTok |\n| 6 | Veronica | 31 | 2 |  5.2 | 3 | 170.0 |  83 | TikTok |\n| 7 | Don      | 41 | 0 | 11.1 | 1 | 151.0 | 230 | IG     |\n| 8 | Ryan     | 35 | 1 | 13.3 | 3 | 196.0 | 336 | TikTok |\n| 9 | Maggie   | 42 | 2 | 10.5 | 0 | 147.0 | 269 | FB     |\n| 10 | Aaron    | 36 | 4 | 10.8 | 2 | 156.0 | 244 | SC     |\n| 11 | Scott    | 29 | 2 |  7.3 | 5 | 141.0 | 176 | SC     |\n\n",
            "text/latex": "A data.frame: 11 × 8\n\\begin{tabular}{r|llllllll}\n  & Name & Age & Pets & ScreenTime & Siblings & Height & Following & SocialMedia\\\\\n  & <chr> & <int> & <int> & <dbl> & <int> & <dbl> & <int> & <chr>\\\\\n\\hline\n\t1 & Danika   & 27 & 1 &  9.5 & 1 & 172.0 & 425 & IG    \\\\\n\t2 & Thuntida & 40 & 1 &  8.0 & 1 & 158.0 & 310 & IG    \\\\\n\t3 & Placida  & 40 & 0 &  4.0 & 2 & 162.5 & 112 & FB    \\\\\n\t4 & Marco    & 47 & 3 &  7.2 & 2 & 181.0 & 300 & X     \\\\\n\t5 & Alvin    & 32 & 1 & 15.3 & 2 & 155.0 & 232 & TikTok\\\\\n\t6 & Veronica & 31 & 2 &  5.2 & 3 & 170.0 &  83 & TikTok\\\\\n\t7 & Don      & 41 & 0 & 11.1 & 1 & 151.0 & 230 & IG    \\\\\n\t8 & Ryan     & 35 & 1 & 13.3 & 3 & 196.0 & 336 & TikTok\\\\\n\t9 & Maggie   & 42 & 2 & 10.5 & 0 & 147.0 & 269 & FB    \\\\\n\t10 & Aaron    & 36 & 4 & 10.8 & 2 & 156.0 & 244 & SC    \\\\\n\t11 & Scott    & 29 & 2 &  7.3 & 5 & 141.0 & 176 & SC    \\\\\n\\end{tabular}\n",
            "text/plain": [
              "   Name     Age Pets ScreenTime Siblings Height Following SocialMedia\n",
              "1  Danika   27  1     9.5       1        172.0  425       IG         \n",
              "2  Thuntida 40  1     8.0       1        158.0  310       IG         \n",
              "3  Placida  40  0     4.0       2        162.5  112       FB         \n",
              "4  Marco    47  3     7.2       2        181.0  300       X          \n",
              "5  Alvin    32  1    15.3       2        155.0  232       TikTok     \n",
              "6  Veronica 31  2     5.2       3        170.0   83       TikTok     \n",
              "7  Don      41  0    11.1       1        151.0  230       IG         \n",
              "8  Ryan     35  1    13.3       3        196.0  336       TikTok     \n",
              "9  Maggie   42  2    10.5       0        147.0  269       FB         \n",
              "10 Aaron    36  4    10.8       2        156.0  244       SC         \n",
              "11 Scott    29  2     7.3       5        141.0  176       SC         "
            ]
          },
          "metadata": {}
        }
      ]
    },
    {
      "cell_type": "markdown",
      "source": [
        "### $\\color{magenta}{\\text{Your Turn!}}$\n",
        "\n",
        "We have saved the data from earlier today as a csv in github. The csv is called dataframe2. Please read this dataset in and call it dataframe2."
      ],
      "metadata": {
        "id": "BIXnPbOYU-Xu"
      },
      "id": "BIXnPbOYU-Xu"
    },
    {
      "cell_type": "code",
      "source": [
        "#Enter your code here"
      ],
      "metadata": {
        "id": "ErRWG5ORVN5P"
      },
      "id": "ErRWG5ORVN5P",
      "execution_count": null,
      "outputs": []
    },
    {
      "cell_type": "markdown",
      "source": [
        "## $\\color{olive}{\\text{Extracting Data}}$\n",
        "\n",
        "- If we want to look at a particular row of data we can run the line of code:\n",
        "  - dataframe[row,]\n",
        "\n",
        "For example if we want to look at the second row of data:"
      ],
      "metadata": {
        "id": "5sKdKJsOVPsc"
      },
      "id": "5sKdKJsOVPsc"
    },
    {
      "cell_type": "code",
      "source": [
        "dataframe1[2,]"
      ],
      "metadata": {
        "colab": {
          "base_uri": "https://localhost:8080/",
          "height": 129
        },
        "id": "S8IydjVEVohe",
        "outputId": "302c5f09-0047-4e0a-fb90-f57f69c36a00"
      },
      "id": "S8IydjVEVohe",
      "execution_count": null,
      "outputs": [
        {
          "output_type": "display_data",
          "data": {
            "text/html": [
              "<table class=\"dataframe\">\n",
              "<caption>A data.frame: 1 × 8</caption>\n",
              "<thead>\n",
              "\t<tr><th></th><th scope=col>Name</th><th scope=col>Age</th><th scope=col>Pets</th><th scope=col>ScreenTime</th><th scope=col>Siblings</th><th scope=col>Height</th><th scope=col>Following</th><th scope=col>SocialMedia</th></tr>\n",
              "\t<tr><th></th><th scope=col>&lt;chr&gt;</th><th scope=col>&lt;dbl&gt;</th><th scope=col>&lt;dbl&gt;</th><th scope=col>&lt;dbl&gt;</th><th scope=col>&lt;dbl&gt;</th><th scope=col>&lt;dbl&gt;</th><th scope=col>&lt;dbl&gt;</th><th scope=col>&lt;chr&gt;</th></tr>\n",
              "</thead>\n",
              "<tbody>\n",
              "\t<tr><th scope=row>2</th><td>Thuntida</td><td>40</td><td>1</td><td>8</td><td>1</td><td>158</td><td>310</td><td>IG</td></tr>\n",
              "</tbody>\n",
              "</table>\n"
            ],
            "text/markdown": "\nA data.frame: 1 × 8\n\n| <!--/--> | Name &lt;chr&gt; | Age &lt;dbl&gt; | Pets &lt;dbl&gt; | ScreenTime &lt;dbl&gt; | Siblings &lt;dbl&gt; | Height &lt;dbl&gt; | Following &lt;dbl&gt; | SocialMedia &lt;chr&gt; |\n|---|---|---|---|---|---|---|---|---|\n| 2 | Thuntida | 40 | 1 | 8 | 1 | 158 | 310 | IG |\n\n",
            "text/latex": "A data.frame: 1 × 8\n\\begin{tabular}{r|llllllll}\n  & Name & Age & Pets & ScreenTime & Siblings & Height & Following & SocialMedia\\\\\n  & <chr> & <dbl> & <dbl> & <dbl> & <dbl> & <dbl> & <dbl> & <chr>\\\\\n\\hline\n\t2 & Thuntida & 40 & 1 & 8 & 1 & 158 & 310 & IG\\\\\n\\end{tabular}\n",
            "text/plain": [
              "  Name     Age Pets ScreenTime Siblings Height Following SocialMedia\n",
              "2 Thuntida 40  1    8          1        158    310       IG         "
            ]
          },
          "metadata": {}
        }
      ]
    },
    {
      "cell_type": "markdown",
      "source": [
        "- If we want to extract a particular column from our dataframe we have two ways to do this:\n",
        "  - dataframe[,column]\n",
        "  - dataframe$name of column\n",
        "\n",
        "Lets extract the 4th column, which is also called ScreenTime"
      ],
      "metadata": {
        "id": "b_s6K7r1Vrbg"
      },
      "id": "b_s6K7r1Vrbg"
    },
    {
      "cell_type": "code",
      "source": [
        "dataframe1[,4]\n",
        "dataframe1$ScreenTime"
      ],
      "metadata": {
        "colab": {
          "base_uri": "https://localhost:8080/",
          "height": 52
        },
        "id": "T-aEQ7xsV4pu",
        "outputId": "d815e885-8cf6-49c7-fb9f-a2342b918ca9"
      },
      "id": "T-aEQ7xsV4pu",
      "execution_count": null,
      "outputs": [
        {
          "output_type": "display_data",
          "data": {
            "text/html": [
              "<style>\n",
              ".list-inline {list-style: none; margin:0; padding: 0}\n",
              ".list-inline>li {display: inline-block}\n",
              ".list-inline>li:not(:last-child)::after {content: \"\\00b7\"; padding: 0 .5ex}\n",
              "</style>\n",
              "<ol class=list-inline><li>9.5</li><li>8</li><li>4</li><li>7.2</li><li>15.3</li><li>5.2</li><li>11.1</li><li>13.3</li><li>10.5</li><li>10.8</li><li>7.3</li></ol>\n"
            ],
            "text/markdown": "1. 9.5\n2. 8\n3. 4\n4. 7.2\n5. 15.3\n6. 5.2\n7. 11.1\n8. 13.3\n9. 10.5\n10. 10.8\n11. 7.3\n\n\n",
            "text/latex": "\\begin{enumerate*}\n\\item 9.5\n\\item 8\n\\item 4\n\\item 7.2\n\\item 15.3\n\\item 5.2\n\\item 11.1\n\\item 13.3\n\\item 10.5\n\\item 10.8\n\\item 7.3\n\\end{enumerate*}\n",
            "text/plain": [
              " [1]  9.5  8.0  4.0  7.2 15.3  5.2 11.1 13.3 10.5 10.8  7.3"
            ]
          },
          "metadata": {}
        },
        {
          "output_type": "display_data",
          "data": {
            "text/html": [
              "<style>\n",
              ".list-inline {list-style: none; margin:0; padding: 0}\n",
              ".list-inline>li {display: inline-block}\n",
              ".list-inline>li:not(:last-child)::after {content: \"\\00b7\"; padding: 0 .5ex}\n",
              "</style>\n",
              "<ol class=list-inline><li>9.5</li><li>8</li><li>4</li><li>7.2</li><li>15.3</li><li>5.2</li><li>11.1</li><li>13.3</li><li>10.5</li><li>10.8</li><li>7.3</li></ol>\n"
            ],
            "text/markdown": "1. 9.5\n2. 8\n3. 4\n4. 7.2\n5. 15.3\n6. 5.2\n7. 11.1\n8. 13.3\n9. 10.5\n10. 10.8\n11. 7.3\n\n\n",
            "text/latex": "\\begin{enumerate*}\n\\item 9.5\n\\item 8\n\\item 4\n\\item 7.2\n\\item 15.3\n\\item 5.2\n\\item 11.1\n\\item 13.3\n\\item 10.5\n\\item 10.8\n\\item 7.3\n\\end{enumerate*}\n",
            "text/plain": [
              " [1]  9.5  8.0  4.0  7.2 15.3  5.2 11.1 13.3 10.5 10.8  7.3"
            ]
          },
          "metadata": {}
        }
      ]
    },
    {
      "cell_type": "markdown",
      "source": [
        " - If we want to get the value from the 4th row, and 3rd column we can do that in R as follows:"
      ],
      "metadata": {
        "id": "1IuZq6sPWFgE"
      },
      "id": "1IuZq6sPWFgE"
    },
    {
      "cell_type": "code",
      "source": [
        "dataframe1[4,3]"
      ],
      "metadata": {
        "colab": {
          "base_uri": "https://localhost:8080/",
          "height": 34
        },
        "id": "kG4iOFSDWNDJ",
        "outputId": "2268413f-14a1-4ae3-ef25-118c49d442b3"
      },
      "id": "kG4iOFSDWNDJ",
      "execution_count": null,
      "outputs": [
        {
          "output_type": "display_data",
          "data": {
            "text/html": [
              "3"
            ],
            "text/markdown": "3",
            "text/latex": "3",
            "text/plain": [
              "[1] 3"
            ]
          },
          "metadata": {}
        }
      ]
    },
    {
      "cell_type": "markdown",
      "source": [
        "We can apply some functions to our data as well! For example I can extract, the mean, median, mode and range of the Age variable."
      ],
      "metadata": {
        "id": "QjduWdqwWQAt"
      },
      "id": "QjduWdqwWQAt"
    },
    {
      "cell_type": "code",
      "source": [
        "mean(dataframe1$Age)\n",
        "median(dataframe1$Age)\n",
        "table(dataframe1$Age)\n",
        "max(dataframe1$Age) - min(dataframe1$Age)\n"
      ],
      "metadata": {
        "colab": {
          "base_uri": "https://localhost:8080/",
          "height": 123
        },
        "id": "ZJaOuXxeWfie",
        "outputId": "09ec8d8c-8507-4126-f5e7-d6dea7673744"
      },
      "id": "ZJaOuXxeWfie",
      "execution_count": null,
      "outputs": [
        {
          "output_type": "display_data",
          "data": {
            "text/html": [
              "36.3636363636364"
            ],
            "text/markdown": "36.3636363636364",
            "text/latex": "36.3636363636364",
            "text/plain": [
              "[1] 36.36364"
            ]
          },
          "metadata": {}
        },
        {
          "output_type": "display_data",
          "data": {
            "text/html": [
              "36"
            ],
            "text/markdown": "36",
            "text/latex": "36",
            "text/plain": [
              "[1] 36"
            ]
          },
          "metadata": {}
        },
        {
          "output_type": "display_data",
          "data": {
            "text/plain": [
              "\n",
              "27 29 31 32 35 36 40 41 42 47 \n",
              " 1  1  1  1  1  1  2  1  1  1 "
            ]
          },
          "metadata": {}
        },
        {
          "output_type": "display_data",
          "data": {
            "text/html": [
              "20"
            ],
            "text/markdown": "20",
            "text/latex": "20",
            "text/plain": [
              "[1] 20"
            ]
          },
          "metadata": {}
        }
      ]
    },
    {
      "cell_type": "markdown",
      "source": [
        "The mean is 36.36, the median is 36, the mode is 40, and the range of the data is 20 years."
      ],
      "metadata": {
        "id": "eQHTI7ybWsyL"
      },
      "id": "eQHTI7ybWsyL"
    },
    {
      "cell_type": "markdown",
      "source": [
        "### $\\color{cyan}{\\text{Maximums and Minimums}}$\n",
        "\n",
        "- I can find the maximum in a dataset using max()\n",
        "- I can find the minimum in a dataset using min()\n",
        "- If I want to know where the maximum is I can use which.max()\n",
        "- If I want to know where the minimum is I can use which.min()\n",
        "\n",
        "\n",
        "For example, let's find the tallest person, the shortest person, and their heights!"
      ],
      "metadata": {
        "id": "cqC4dFl9XhDh"
      },
      "id": "cqC4dFl9XhDh"
    },
    {
      "cell_type": "code",
      "source": [
        "#find the biggest height\n",
        "max(dataframe1$Height)\n",
        "#the tallest person is 196cm\n",
        "#now I want to know which entry this is\n",
        "which.max(dataframe1$Height)\n",
        "#I can now grab the name of this person\n",
        "dataframe1$Name[which.max(dataframe1$Height)]\n",
        "#The tallest person is Ryan!\n",
        "\n",
        "#find the smallest height\n",
        "min(dataframe1$Height)\n",
        "#the shortest person is 141cm\n",
        "#now I want to know which entry this is\n",
        "which.min(dataframe1$Height)\n",
        "#I can now grab the name of this person\n",
        "dataframe1$Name[which.min(dataframe1$Height)]\n",
        "#The tallest person is Scott!"
      ],
      "metadata": {
        "colab": {
          "base_uri": "https://localhost:8080/",
          "height": 121
        },
        "id": "aRTOG3NsX9gw",
        "outputId": "a1bcfbf0-5bc5-4d4c-8472-1e4d03779d1f"
      },
      "id": "aRTOG3NsX9gw",
      "execution_count": null,
      "outputs": [
        {
          "output_type": "display_data",
          "data": {
            "text/html": [
              "196"
            ],
            "text/markdown": "196",
            "text/latex": "196",
            "text/plain": [
              "[1] 196"
            ]
          },
          "metadata": {}
        },
        {
          "output_type": "display_data",
          "data": {
            "text/html": [
              "8"
            ],
            "text/markdown": "8",
            "text/latex": "8",
            "text/plain": [
              "[1] 8"
            ]
          },
          "metadata": {}
        },
        {
          "output_type": "display_data",
          "data": {
            "text/html": [
              "'Ryan'"
            ],
            "text/markdown": "'Ryan'",
            "text/latex": "'Ryan'",
            "text/plain": [
              "[1] \"Ryan\""
            ]
          },
          "metadata": {}
        },
        {
          "output_type": "display_data",
          "data": {
            "text/html": [
              "141"
            ],
            "text/markdown": "141",
            "text/latex": "141",
            "text/plain": [
              "[1] 141"
            ]
          },
          "metadata": {}
        },
        {
          "output_type": "display_data",
          "data": {
            "text/html": [
              "11"
            ],
            "text/markdown": "11",
            "text/latex": "11",
            "text/plain": [
              "[1] 11"
            ]
          },
          "metadata": {}
        },
        {
          "output_type": "display_data",
          "data": {
            "text/html": [
              "'Scott'"
            ],
            "text/markdown": "'Scott'",
            "text/latex": "'Scott'",
            "text/plain": [
              "[1] \"Scott\""
            ]
          },
          "metadata": {}
        }
      ]
    },
    {
      "cell_type": "markdown",
      "source": [
        "### $\\color{magenta}{\\text{Your Turn!}}$\n",
        "\n",
        "Using the data you collected and stored in dataframe2, find and report the:\n",
        "\n",
        "- mean, median, mode, and range of age\n",
        "- Who follows the least people on social media? How many people do they follow?\n",
        "- Who follows the most people on social media? How many people do they follow?"
      ],
      "metadata": {
        "id": "C96RS7hPYrMA"
      },
      "id": "C96RS7hPYrMA"
    },
    {
      "cell_type": "code",
      "source": [
        "#Enter your code here"
      ],
      "metadata": {
        "id": "CFVisYx5ZFB6"
      },
      "id": "CFVisYx5ZFB6",
      "execution_count": null,
      "outputs": []
    },
    {
      "cell_type": "markdown",
      "source": [
        "Double Click here to type out your answer!"
      ],
      "metadata": {
        "id": "08EQ82t2ZGl-"
      },
      "id": "08EQ82t2ZGl-"
    },
    {
      "cell_type": "markdown",
      "source": [
        "# $\\color{violet}{\\text{Module 2: Data Visualization }}$\n",
        "The topics we will cover in module 2 are:\n",
        "  - histograms\n",
        "  - standard deviation\n",
        "    - activity for standard deviation - skittles\n",
        "    - skews, mean, median, mode on the histogram\n",
        "  - Bivariate data\n",
        "  - scatter plots"
      ],
      "metadata": {
        "id": "qC-12N-obia6"
      },
      "id": "qC-12N-obia6"
    },
    {
      "cell_type": "markdown",
      "source": [
        "## $\\color{olive}{\\text{Bar Charts}}$\n",
        "\n",
        "- A bar chart is a picture that helps us compare things using bars.\n",
        "- We will learn how to create bar charts in R, and interpret the bar charts\n",
        "\n",
        "Before we begin we will learn what a library is in R.\n",
        "\n",
        "- In R, a library is like a toolbox full of special tools (called functions) that help you do specific jobs.\n",
        "  - Imagine you want to bake a cake. You need tools like a mixing bowl, a whisk, and a measuring cup. In R, if you want to make graphs or analyze data, you might need extra tools — and that’s what a library gives you!\n",
        "- We will be using the library ggplot2 to help us make some data visualizations. We will load in our library in the next code chunk."
      ],
      "metadata": {
        "id": "TIqz1Z81xRY3"
      },
      "id": "TIqz1Z81xRY3"
    },
    {
      "cell_type": "code",
      "source": [
        "library(ggplot2)"
      ],
      "metadata": {
        "id": "0sfs3VKBx99D"
      },
      "id": "0sfs3VKBx99D",
      "execution_count": null,
      "outputs": []
    },
    {
      "cell_type": "markdown",
      "source": [
        "Now that we have our library loaded in, we will make a bar chart using ggplot2. The code to creat a bar chart is:\n",
        "\n",
        "- ggplot(dataframe, aes(x = column)) +\n",
        "  geom_bar(fill = \"\") +\n",
        "  labs(title = \"Title\", x = \"X axis label\", y = \"Count\") +\n",
        "  theme_minimal()\n",
        "    - we can change the colour of our bar chart using the fill option in geom_bar. The colour choices can be found [here](https://sape.inf.usi.ch/quick-reference/ggplot2/colour)\n",
        "\n",
        "I am going to construct a bar plot of my friends' favourite social media platform.\n"
      ],
      "metadata": {
        "id": "gqg8ODN-yDPy"
      },
      "id": "gqg8ODN-yDPy"
    },
    {
      "cell_type": "code",
      "source": [
        "ggplot(dataframe1, aes(x = SocialMedia)) + geom_bar(fill = \"slateblue3\") + labs(title = \"Favourite Social Media\", x = \"Social Media\", y = \"Count\") + theme_minimal()"
      ],
      "metadata": {
        "colab": {
          "base_uri": "https://localhost:8080/",
          "height": 437
        },
        "id": "QP3rhmDd3d5f",
        "outputId": "87b74c4f-9520-4e4e-b73d-1284e78c18d2"
      },
      "id": "QP3rhmDd3d5f",
      "execution_count": null,
      "outputs": [
        {
          "output_type": "display_data",
          "data": {
            "text/plain": [
              "plot without title"
            ],
            "image/png": "[encoded data removed]"
          },
          "metadata": {
            "image/png": {
              "width": 420,
              "height": 420
            }
          }
        }
      ]
    },
    {
      "cell_type": "markdown",
      "source": [
        "From this plot I can see that the most popular choices are instagram and TikTok. These are the **modes**"
      ],
      "metadata": {
        "id": "z2RWdUyD3xZM"
      },
      "id": "z2RWdUyD3xZM"
    },
    {
      "cell_type": "markdown",
      "source": [
        "### $\\color{magenta}{\\text{Your Turn!}}$\n",
        "\n",
        "Using our camper dataset, make a box plot of the campers favourite social medial. Change the colour of your bar plot! What is the most popular social media?"
      ],
      "metadata": {
        "id": "DY4Hi3i_34_3"
      },
      "id": "DY4Hi3i_34_3"
    },
    {
      "cell_type": "code",
      "source": [
        "#enter your code here"
      ],
      "metadata": {
        "id": "7JILD2_d4H1r"
      },
      "id": "7JILD2_d4H1r",
      "execution_count": null,
      "outputs": []
    },
    {
      "cell_type": "markdown",
      "source": [
        "Double click here to type your answer"
      ],
      "metadata": {
        "id": "FMYqU-ek4LtZ"
      },
      "id": "FMYqU-ek4LtZ"
    },
    {
      "cell_type": "markdown",
      "source": [
        "## $\\color{olive}{\\text{Histogram}}$\n",
        "\n",
        " - A histogram is a special kind of chart that shows how many things fall into different groups or ranges.\n",
        "- For example, we can make a histogram of heights by making ranges of 10cm. These ranges are called our \"bin width\".\n",
        "- To make a histogram we can use the following code from ggplot:\n",
        "  - ggplot(data = your_data, aes(x = your_variable)) +\n",
        "  geom_histogram(binwidth = , fill = \"\", colour = \"\")"
      ],
      "metadata": {
        "id": "Wv1xkJVP4Oqo"
      },
      "id": "Wv1xkJVP4Oqo"
    },
    {
      "cell_type": "code",
      "source": [
        "ggplot(data = dataframe1, aes(x = Height)) + geom_histogram(binwidth = 10 , fill = \"green4\",colour = \"pink\")"
      ],
      "metadata": {
        "colab": {
          "base_uri": "https://localhost:8080/",
          "height": 437
        },
        "id": "y6LGlpBwOlex",
        "outputId": "9923a9fe-ad52-47bc-82e7-e2a12d3b8e3c"
      },
      "id": "y6LGlpBwOlex",
      "execution_count": null,
      "outputs": [
        {
          "output_type": "display_data",
          "data": {
            "text/plain": [
              "plot without title"
            ],
            "image/png": "[encoded data removed]"
          },
          "metadata": {
            "image/png": {
              "width": 420,
              "height": 420
            }
          }
        }
      ]
    },
    {
      "cell_type": "markdown",
      "source": [
        "From this histogram we can see that there are 3 people with heights between 145 and 155cm.\n",
        "\n"
      ],
      "metadata": {
        "id": "iwK_mUctPEN8"
      },
      "id": "iwK_mUctPEN8"
    },
    {
      "cell_type": "markdown",
      "source": [
        "### $\\color{magenta}{\\text{Your Turn!}}$\n",
        "\n",
        "Make a histogram of the Following variable in your dataframe.\n",
        "  - try binwidths of 10, 20, 50, and 100.\n",
        "  - Change the colour of your histogram!\n",
        "  - What is the most common number of accounts followed for the campers?"
      ],
      "metadata": {
        "id": "0HSd-0smPS51"
      },
      "id": "0HSd-0smPS51"
    },
    {
      "cell_type": "code",
      "source": [
        "#Enter your code here"
      ],
      "metadata": {
        "id": "zqld-6XXPvRU"
      },
      "id": "zqld-6XXPvRU",
      "execution_count": null,
      "outputs": []
    },
    {
      "cell_type": "markdown",
      "source": [
        "Double click here to enter your answer."
      ],
      "metadata": {
        "id": "f3kNrvv6Pws0"
      },
      "id": "f3kNrvv6Pws0"
    },
    {
      "cell_type": "markdown",
      "source": [
        "## $\\color{olive}{\\text{Skittles Activity}}$\n",
        "\n",
        "All the campers have received a pack of skittles. Before you eat any of them, count how many of each colour you have in your package.\n",
        "  - Skittles come in red, orange, yellow, green, and purple.\n",
        "- Make a dataframe of your skittle colours. For example if I have 4 red, 2 orange, 5 yellow, 3 green, and 1 purple skittle, I will enter may data into R as follows:\n",
        "\n",
        "\n"
      ],
      "metadata": {
        "id": "zs7C3v7PP6wD"
      },
      "id": "zs7C3v7PP6wD"
    },
    {
      "cell_type": "code",
      "source": [
        "myskittles = data.frame( colours= c(\"red\",\"orange\",\"yellow\",\"green\",\"purple\"), counts = c(4,2,5,3,1))"
      ],
      "metadata": {
        "id": "ONnS6Vk7RXIA"
      },
      "id": "ONnS6Vk7RXIA",
      "execution_count": null,
      "outputs": []
    },
    {
      "cell_type": "markdown",
      "source": [
        "Now you enter your data into a dataframe called skittles!"
      ],
      "metadata": {
        "id": "cFiCQtKrbOFb"
      },
      "id": "cFiCQtKrbOFb"
    },
    {
      "cell_type": "code",
      "source": [
        "#Enter your code here"
      ],
      "metadata": {
        "id": "_BRJMcMSbS_b"
      },
      "id": "_BRJMcMSbS_b",
      "execution_count": null,
      "outputs": []
    },
    {
      "cell_type": "markdown",
      "source": [
        "We can make a **pie** chart of our skittle colours using ggplot! The following line of code will make pie chart:\n",
        "\n",
        "- ggplot(dataframe, aes(x = \"\", y = column with counts, fill = colours)) +    geom_bar(stat = \"identity\", width = 1) +    coord_polar(theta = \"y\") +   theme_void()\n"
      ],
      "metadata": {
        "id": "HxtRV0LJRaHC"
      },
      "id": "HxtRV0LJRaHC"
    },
    {
      "cell_type": "code",
      "source": [
        "ggplot(myskittles, aes(x = \"\", y = counts, fill = colours)) +    geom_bar(stat = \"identity\", width = 1) +    coord_polar(theta = \"y\") +   theme_void()"
      ],
      "metadata": {
        "colab": {
          "base_uri": "https://localhost:8080/",
          "height": 437
        },
        "id": "jpXP9ZdVbc4C",
        "outputId": "218de4d1-cfe8-4f93-d810-07c707d5db3b"
      },
      "id": "jpXP9ZdVbc4C",
      "execution_count": null,
      "outputs": [
        {
          "output_type": "display_data",
          "data": {
            "text/plain": [
              "plot without title"
            ],
            "image/png": "[encoded data removed]"
          },
          "metadata": {
            "image/png": {
              "width": 420,
              "height": 420
            }
          }
        }
      ]
    },
    {
      "cell_type": "code",
      "source": [
        "#Enter your code here to make a pie chart"
      ],
      "metadata": {
        "id": "4wg8UJbmTGwQ"
      },
      "id": "4wg8UJbmTGwQ",
      "execution_count": null,
      "outputs": []
    },
    {
      "cell_type": "markdown",
      "source": [
        "## $\\color{olive}{\\text{Skittles and Spread}}$\n",
        "\n",
        "- We have already discussed mean, median and mode, so we could easily find the mean count of skittles for each colour, the mode (most popular colour), and the median amount of skittles for each colour.\n",
        "- Report the mean, median, and mode of the skittles. You may use code to help you."
      ],
      "metadata": {
        "id": "ZTFFfE5EY8-E"
      },
      "id": "ZTFFfE5EY8-E"
    },
    {
      "cell_type": "code",
      "source": [
        "#Enter your code here"
      ],
      "metadata": {
        "id": "YDDd6KlPZn9Q"
      },
      "id": "YDDd6KlPZn9Q",
      "execution_count": null,
      "outputs": []
    },
    {
      "cell_type": "markdown",
      "source": [
        "Double click here to type your answer."
      ],
      "metadata": {
        "id": "5KeffFmnZpoV"
      },
      "id": "5KeffFmnZpoV"
    },
    {
      "cell_type": "markdown",
      "source": [
        "Now that we have the mean, median, and mode, we would like to find the spread of the data. That means, we would like to know how different the counts of each colour are from the average.\n",
        "\n",
        "- For example in my pack of skittles I had 4 red, 2 orange, 5 yellow, 3 green, and 1 purple skittle. The average number of skittles for each colour is 3. So on average I would expect there to be 3 of each colour of skittles in my skittle package. However,\n",
        "  - My red skittles are 1 away from the mean,\n",
        "  - My orange skittles are 1 away from the mean\n",
        "  - My yellow skittles are 2 away from the mean\n",
        "  - My green skittles are 0 away from the mean\n",
        "  - My purple skittles are 2 away from the mean\n",
        "- Here we are looking at how far away from them mean the number of each colour actually is - the **spread** of our data.\n",
        "- One way we measure spread is called the standard deviation.\n",
        "- To calculate standard deviation we take the square of each of the differences from the mean, and we add them up:\n",
        "  - $1^2+ 1^2+2^2+0^2+2^2 = 10$\n",
        "\n",
        "  \n"
      ],
      "metadata": {
        "id": "AYwlp0UZZsNJ"
      },
      "id": "AYwlp0UZZsNJ"
    },
    {
      "cell_type": "code",
      "source": [
        "1^2+ 1^2+2^2+0^2+2^2"
      ],
      "metadata": {
        "colab": {
          "base_uri": "https://localhost:8080/",
          "height": 34
        },
        "id": "_ebqgD6QgTno",
        "outputId": "7807a4d5-85f3-48be-e52d-5faf56724717"
      },
      "id": "_ebqgD6QgTno",
      "execution_count": null,
      "outputs": [
        {
          "output_type": "display_data",
          "data": {
            "text/html": [
              "10"
            ],
            "text/markdown": "10",
            "text/latex": "10",
            "text/plain": [
              "[1] 10"
            ]
          },
          "metadata": {}
        }
      ]
    },
    {
      "cell_type": "markdown",
      "source": [
        "- Then we divide this sum by one less the number of observations. In this case there are 5 colours, so we divide it by 4.\n",
        "  - $10\\div 4 = 2.5$\n",
        "\n",
        "\n"
      ],
      "metadata": {
        "id": "A_RKUtIKgUVl"
      },
      "id": "A_RKUtIKgUVl"
    },
    {
      "cell_type": "code",
      "source": [
        "1/4"
      ],
      "metadata": {
        "id": "Rpl2FEyDgWmN"
      },
      "id": "Rpl2FEyDgWmN",
      "execution_count": null,
      "outputs": []
    },
    {
      "cell_type": "markdown",
      "source": [
        "- Finally, we square root this number.\n",
        "  - $\\sqrt{2.5} = 1.581139$\n"
      ],
      "metadata": {
        "id": "2u8brfA7gXFC"
      },
      "id": "2u8brfA7gXFC"
    },
    {
      "cell_type": "code",
      "source": [
        "sqrt(2.5)"
      ],
      "metadata": {
        "id": "yziNACcGgZ3o"
      },
      "id": "yziNACcGgZ3o",
      "execution_count": null,
      "outputs": []
    },
    {
      "cell_type": "markdown",
      "source": [
        "- Our standard deviation is approximately 1.58.\n",
        "\n",
        "What does this mean?\n",
        "  - This means that the number of each colour tends to be about 1.58 away from the mean number of each colour.\n",
        "\n",
        "**If standard deviation is large, that means that the values tend to be quite far away from the mean. If the standard deviation is small, that means that values tend to be quite close to the mean.**"
      ],
      "metadata": {
        "id": "ZFQtMT10gaKm"
      },
      "id": "ZFQtMT10gaKm"
    },
    {
      "cell_type": "markdown",
      "source": [
        "### $\\color{magenta}{\\text{Your Turn!}}$\n",
        "\n",
        "Compute the standard deviation of your skittle counts, and provide an interpretation of this. You may use R to help you with calculations."
      ],
      "metadata": {
        "id": "89CI4OX7giJ4"
      },
      "id": "89CI4OX7giJ4"
    },
    {
      "cell_type": "code",
      "source": [
        "#Enter your code here"
      ],
      "metadata": {
        "id": "ANNxQBf9gs9i"
      },
      "id": "ANNxQBf9gs9i",
      "execution_count": null,
      "outputs": []
    },
    {
      "cell_type": "markdown",
      "source": [
        "Double click here to enter your answer"
      ],
      "metadata": {
        "id": "UkCRwGKVguQO"
      },
      "id": "UkCRwGKVguQO"
    },
    {
      "cell_type": "markdown",
      "source": [
        "**Standard Deviation in R**\n",
        "\n",
        "- You can easily compute the standard deviation in R using the sd() function.\n",
        "  - In this dataset I want to find the standard deviaiton of the counts of each colour, so I will use the following code:"
      ],
      "metadata": {
        "id": "93wXV_wBgwxc"
      },
      "id": "93wXV_wBgwxc"
    },
    {
      "cell_type": "code",
      "source": [
        "sd(myskittles$counts)"
      ],
      "metadata": {
        "colab": {
          "base_uri": "https://localhost:8080/",
          "height": 34
        },
        "id": "60Zeg2mHiTA9",
        "outputId": "6b4b38dd-030d-4b5e-c2b2-097f64901f3b"
      },
      "id": "60Zeg2mHiTA9",
      "execution_count": null,
      "outputs": [
        {
          "output_type": "display_data",
          "data": {
            "text/html": [
              "1.58113883008419"
            ],
            "text/markdown": "1.58113883008419",
            "text/latex": "1.58113883008419",
            "text/plain": [
              "[1] 1.581139"
            ]
          },
          "metadata": {}
        }
      ]
    },
    {
      "cell_type": "markdown",
      "source": [
        "### $\\color{magenta}{\\text{Your Turn!}}$\n",
        "\n",
        "Compute the standard deviation of your skittle counts using the function in R."
      ],
      "metadata": {
        "id": "80ubFIZviUR2"
      },
      "id": "80ubFIZviUR2"
    },
    {
      "cell_type": "code",
      "source": [
        "#Enter your code here."
      ],
      "metadata": {
        "id": "S852snxdiYuz"
      },
      "id": "S852snxdiYuz",
      "execution_count": null,
      "outputs": []
    },
    {
      "cell_type": "markdown",
      "source": [],
      "metadata": {
        "id": "Cr1VVF_xiaOj"
      },
      "id": "Cr1VVF_xiaOj"
    },
    {
      "cell_type": "markdown",
      "source": [
        "# $\\color{violet}{\\text{Module 3: Analyzing data with Linear Regression}}$\n",
        "\n",
        "In this module we will be working with a dataset about the James Bond Movies.\n",
        "\n",
        "The data set consists of 24 James Bond movies making up the rows, and the columns are:\n",
        " - Year\n",
        " - Movie: movie name\n",
        " - US_Gross: The films U.S gross earnings in millions of dollars\n",
        " - Budget: The films budget in millions of dollars\n",
        " - Avg_User_IMDB: The average user rating from IMDB\n",
        " - Avg_User_Rtn_Tom: The average user rating from Rotten Tomatoes\n",
        " - Kills_Bond: The number of people Bond killed\n",
        " - Kills_Others: The number of people killed by someone other than bond\n",
        "\n",
        "Citation for data set: Derek S. Young (2017). Handbook of Regression Methods. CRC Press/Taylor & Francis Group. Boca Raton, FL.\n",
        "\n",
        "Data was retrieved from GitHub: https://github.com/andrew-block/jamesbond/blob/master/data/data.csv\n",
        "\n",
        "The data has been cleaned and added to the Data Science Camp GitHub\n",
        "\n",
        "Let's start by reading in the dataset from Github:"
      ],
      "metadata": {
        "id": "bOrOq0zngSiO"
      },
      "id": "bOrOq0zngSiO"
    },
    {
      "cell_type": "code",
      "source": [
        "Bond = read.csv(\"https://raw.githubusercontent.com/DanikaLipman/JuniorHighDataScienceCamp/refs/heads/main/BondDataClean.csv\")\n",
        "#I can look at the names of the columns using the following function:\n",
        "colnames(Bond)\n",
        "#I can look at the first 10 rows using the command:\n",
        "Bond[1:10,]\n"
      ],
      "metadata": {
        "colab": {
          "base_uri": "https://localhost:8080/",
          "height": 429
        },
        "id": "meP9GUnCYwWp",
        "outputId": "54d073f1-1c85-42a2-8b69-bd5ff665545c"
      },
      "id": "meP9GUnCYwWp",
      "execution_count": 43,
      "outputs": [
        {
          "output_type": "display_data",
          "data": {
            "text/html": [
              "<style>\n",
              ".list-inline {list-style: none; margin:0; padding: 0}\n",
              ".list-inline>li {display: inline-block}\n",
              ".list-inline>li:not(:last-child)::after {content: \"\\00b7\"; padding: 0 .5ex}\n",
              "</style>\n",
              "<ol class=list-inline><li>'X'</li><li>'Year'</li><li>'Movie'</li><li>'US_Gross'</li><li>'Budget'</li><li>'Avg_User_IMDB'</li><li>'Avg_User_Rtn_Tom'</li><li>'Kills_Bond'</li><li>'Kills_Others'</li></ol>\n"
            ],
            "text/markdown": "1. 'X'\n2. 'Year'\n3. 'Movie'\n4. 'US_Gross'\n5. 'Budget'\n6. 'Avg_User_IMDB'\n7. 'Avg_User_Rtn_Tom'\n8. 'Kills_Bond'\n9. 'Kills_Others'\n\n\n",
            "text/latex": "\\begin{enumerate*}\n\\item 'X'\n\\item 'Year'\n\\item 'Movie'\n\\item 'US\\_Gross'\n\\item 'Budget'\n\\item 'Avg\\_User\\_IMDB'\n\\item 'Avg\\_User\\_Rtn\\_Tom'\n\\item 'Kills\\_Bond'\n\\item 'Kills\\_Others'\n\\end{enumerate*}\n",
            "text/plain": [
              "[1] \"X\"                \"Year\"             \"Movie\"            \"US_Gross\"        \n",
              "[5] \"Budget\"           \"Avg_User_IMDB\"    \"Avg_User_Rtn_Tom\" \"Kills_Bond\"      \n",
              "[9] \"Kills_Others\"    "
            ]
          },
          "metadata": {}
        },
        {
          "output_type": "display_data",
          "data": {
            "text/html": [
              "<table class=\"dataframe\">\n",
              "<caption>A data.frame: 10 × 9</caption>\n",
              "<thead>\n",
              "\t<tr><th></th><th scope=col>X</th><th scope=col>Year</th><th scope=col>Movie</th><th scope=col>US_Gross</th><th scope=col>Budget</th><th scope=col>Avg_User_IMDB</th><th scope=col>Avg_User_Rtn_Tom</th><th scope=col>Kills_Bond</th><th scope=col>Kills_Others</th></tr>\n",
              "\t<tr><th></th><th scope=col>&lt;int&gt;</th><th scope=col>&lt;int&gt;</th><th scope=col>&lt;chr&gt;</th><th scope=col>&lt;dbl&gt;</th><th scope=col>&lt;dbl&gt;</th><th scope=col>&lt;dbl&gt;</th><th scope=col>&lt;dbl&gt;</th><th scope=col>&lt;int&gt;</th><th scope=col>&lt;int&gt;</th></tr>\n",
              "</thead>\n",
              "<tbody>\n",
              "\t<tr><th scope=row>1</th><td> 1</td><td>1962</td><td>Dr. No                         </td><td>16.06704</td><td> 1.0</td><td>7.3</td><td>7.7</td><td> 4</td><td>  8</td></tr>\n",
              "\t<tr><th scope=row>2</th><td> 2</td><td>1963</td><td>From Russia with Love          </td><td>24.80000</td><td> 2.0</td><td>7.5</td><td>8.0</td><td>11</td><td> 16</td></tr>\n",
              "\t<tr><th scope=row>3</th><td> 3</td><td>1964</td><td>Goldfinger                     </td><td>51.10000</td><td> 3.0</td><td>7.8</td><td>8.4</td><td> 9</td><td> 68</td></tr>\n",
              "\t<tr><th scope=row>4</th><td> 4</td><td>1965</td><td>Thunderball                    </td><td>63.60000</td><td> 9.0</td><td>7.0</td><td>6.8</td><td>20</td><td> 90</td></tr>\n",
              "\t<tr><th scope=row>5</th><td> 5</td><td>1967</td><td>You Only Live Twice            </td><td>43.10000</td><td> 9.5</td><td>6.9</td><td>6.3</td><td>21</td><td>175</td></tr>\n",
              "\t<tr><th scope=row>6</th><td> 6</td><td>1969</td><td>On Her Majesty's Secret Service</td><td>22.80000</td><td> 8.0</td><td>6.8</td><td>6.7</td><td> 5</td><td> 37</td></tr>\n",
              "\t<tr><th scope=row>7</th><td> 7</td><td>1971</td><td>Diamonds Are Forever           </td><td>43.80000</td><td> 7.2</td><td>6.7</td><td>6.3</td><td> 7</td><td> 42</td></tr>\n",
              "\t<tr><th scope=row>8</th><td> 8</td><td>1973</td><td>Live and Let Die               </td><td>35.40000</td><td> 7.0</td><td>6.8</td><td>5.9</td><td> 8</td><td>  5</td></tr>\n",
              "\t<tr><th scope=row>9</th><td> 9</td><td>1974</td><td>The Man with the Golden Gun    </td><td>21.00000</td><td> 7.0</td><td>6.7</td><td>5.1</td><td> 1</td><td>  5</td></tr>\n",
              "\t<tr><th scope=row>10</th><td>10</td><td>1977</td><td>The Spy Who Loved Me           </td><td>46.80000</td><td>14.0</td><td>7.1</td><td>6.8</td><td>31</td><td>116</td></tr>\n",
              "</tbody>\n",
              "</table>\n"
            ],
            "text/markdown": "\nA data.frame: 10 × 9\n\n| <!--/--> | X &lt;int&gt; | Year &lt;int&gt; | Movie &lt;chr&gt; | US_Gross &lt;dbl&gt; | Budget &lt;dbl&gt; | Avg_User_IMDB &lt;dbl&gt; | Avg_User_Rtn_Tom &lt;dbl&gt; | Kills_Bond &lt;int&gt; | Kills_Others &lt;int&gt; |\n|---|---|---|---|---|---|---|---|---|---|\n| 1 |  1 | 1962 | Dr. No                          | 16.06704 |  1.0 | 7.3 | 7.7 |  4 |   8 |\n| 2 |  2 | 1963 | From Russia with Love           | 24.80000 |  2.0 | 7.5 | 8.0 | 11 |  16 |\n| 3 |  3 | 1964 | Goldfinger                      | 51.10000 |  3.0 | 7.8 | 8.4 |  9 |  68 |\n| 4 |  4 | 1965 | Thunderball                     | 63.60000 |  9.0 | 7.0 | 6.8 | 20 |  90 |\n| 5 |  5 | 1967 | You Only Live Twice             | 43.10000 |  9.5 | 6.9 | 6.3 | 21 | 175 |\n| 6 |  6 | 1969 | On Her Majesty's Secret Service | 22.80000 |  8.0 | 6.8 | 6.7 |  5 |  37 |\n| 7 |  7 | 1971 | Diamonds Are Forever            | 43.80000 |  7.2 | 6.7 | 6.3 |  7 |  42 |\n| 8 |  8 | 1973 | Live and Let Die                | 35.40000 |  7.0 | 6.8 | 5.9 |  8 |   5 |\n| 9 |  9 | 1974 | The Man with the Golden Gun     | 21.00000 |  7.0 | 6.7 | 5.1 |  1 |   5 |\n| 10 | 10 | 1977 | The Spy Who Loved Me            | 46.80000 | 14.0 | 7.1 | 6.8 | 31 | 116 |\n\n",
            "text/latex": "A data.frame: 10 × 9\n\\begin{tabular}{r|lllllllll}\n  & X & Year & Movie & US\\_Gross & Budget & Avg\\_User\\_IMDB & Avg\\_User\\_Rtn\\_Tom & Kills\\_Bond & Kills\\_Others\\\\\n  & <int> & <int> & <chr> & <dbl> & <dbl> & <dbl> & <dbl> & <int> & <int>\\\\\n\\hline\n\t1 &  1 & 1962 & Dr. No                          & 16.06704 &  1.0 & 7.3 & 7.7 &  4 &   8\\\\\n\t2 &  2 & 1963 & From Russia with Love           & 24.80000 &  2.0 & 7.5 & 8.0 & 11 &  16\\\\\n\t3 &  3 & 1964 & Goldfinger                      & 51.10000 &  3.0 & 7.8 & 8.4 &  9 &  68\\\\\n\t4 &  4 & 1965 & Thunderball                     & 63.60000 &  9.0 & 7.0 & 6.8 & 20 &  90\\\\\n\t5 &  5 & 1967 & You Only Live Twice             & 43.10000 &  9.5 & 6.9 & 6.3 & 21 & 175\\\\\n\t6 &  6 & 1969 & On Her Majesty's Secret Service & 22.80000 &  8.0 & 6.8 & 6.7 &  5 &  37\\\\\n\t7 &  7 & 1971 & Diamonds Are Forever            & 43.80000 &  7.2 & 6.7 & 6.3 &  7 &  42\\\\\n\t8 &  8 & 1973 & Live and Let Die                & 35.40000 &  7.0 & 6.8 & 5.9 &  8 &   5\\\\\n\t9 &  9 & 1974 & The Man with the Golden Gun     & 21.00000 &  7.0 & 6.7 & 5.1 &  1 &   5\\\\\n\t10 & 10 & 1977 & The Spy Who Loved Me            & 46.80000 & 14.0 & 7.1 & 6.8 & 31 & 116\\\\\n\\end{tabular}\n",
            "text/plain": [
              "   X  Year Movie                           US_Gross Budget Avg_User_IMDB\n",
              "1   1 1962 Dr. No                          16.06704  1.0   7.3          \n",
              "2   2 1963 From Russia with Love           24.80000  2.0   7.5          \n",
              "3   3 1964 Goldfinger                      51.10000  3.0   7.8          \n",
              "4   4 1965 Thunderball                     63.60000  9.0   7.0          \n",
              "5   5 1967 You Only Live Twice             43.10000  9.5   6.9          \n",
              "6   6 1969 On Her Majesty's Secret Service 22.80000  8.0   6.8          \n",
              "7   7 1971 Diamonds Are Forever            43.80000  7.2   6.7          \n",
              "8   8 1973 Live and Let Die                35.40000  7.0   6.8          \n",
              "9   9 1974 The Man with the Golden Gun     21.00000  7.0   6.7          \n",
              "10 10 1977 The Spy Who Loved Me            46.80000 14.0   7.1          \n",
              "   Avg_User_Rtn_Tom Kills_Bond Kills_Others\n",
              "1  7.7               4           8         \n",
              "2  8.0              11          16         \n",
              "3  8.4               9          68         \n",
              "4  6.8              20          90         \n",
              "5  6.3              21         175         \n",
              "6  6.7               5          37         \n",
              "7  6.3               7          42         \n",
              "8  5.9               8           5         \n",
              "9  5.1               1           5         \n",
              "10 6.8              31         116         "
            ]
          },
          "metadata": {}
        }
      ]
    },
    {
      "cell_type": "markdown",
      "source": [
        "## $\\color{olive}{\\text{Scatter Plots}}$\n",
        "\n",
        "We may be interested in relationships between two numerical variables. For example, I am interested in investigating to see if there is a relationship between the year the movie came out, and the budget for the movie.\n"
      ],
      "metadata": {
        "id": "cmv4Y6xdZeCl"
      },
      "id": "cmv4Y6xdZeCl"
    },
    {
      "cell_type": "markdown",
      "source": [
        "We make scatter plots using ggplot2 library. The code is as follows:\n",
        "\n",
        "ggplot(data, aes(x = column for x, y = column for y)) +\n",
        "  geom_point(color = Choose a Colour)\n",
        "\n",
        "  - The X variable is our dependent variable, and the Y variable is our response variable.\n",
        "  - Y depends on X\n",
        "\n",
        "Here I will make a plot to see how budget depends on the year a movie was made. So year is our X variable, and budget is our Y variable.\n"
      ],
      "metadata": {
        "id": "PpzRjFgyqXOf"
      },
      "id": "PpzRjFgyqXOf"
    },
    {
      "cell_type": "code",
      "source": [
        "library(ggplot2)\n",
        "ggplot(Bond, aes(x = Year, y = Budget)) + geom_point(color = \"cornflowerblue\" )"
      ],
      "metadata": {
        "colab": {
          "base_uri": "https://localhost:8080/",
          "height": 437
        },
        "id": "bE1xaAx8qn5D",
        "outputId": "51aeff44-05cc-459c-bd91-44e089e69480"
      },
      "id": "bE1xaAx8qn5D",
      "execution_count": 46,
      "outputs": [
        {
          "output_type": "display_data",
          "data": {
            "text/plain": [
              "plot without title"
            ],
            "image/png": "[encoded data removed]"
          },
          "metadata": {
            "image/png": {
              "width": 420,
              "height": 420
            }
          }
        }
      ]
    },
    {
      "cell_type": "markdown",
      "source": [
        "We can see from this scatter plot, that as the years go by, the budget gets bigger and bigger!\n",
        "\n",
        "- It looks like at around 2006, the budget dropped suddenly, but then continued to increase in the next Bond films.\n",
        "\n",
        "- I would like to find the movies that had a budget over one hundred million dollars. I can do that in the following chunk of code."
      ],
      "metadata": {
        "id": "0YYzKAX-5hnD"
      },
      "id": "0YYzKAX-5hnD"
    },
    {
      "cell_type": "code",
      "source": [
        "Bond[which(Bond$Budget>100),]"
      ],
      "metadata": {
        "colab": {
          "base_uri": "https://localhost:8080/",
          "height": 318
        },
        "id": "29BewxOc8WyB",
        "outputId": "d0545c70-927b-47a7-ee5a-a82c051b5c5f"
      },
      "id": "29BewxOc8WyB",
      "execution_count": 47,
      "outputs": [
        {
          "output_type": "display_data",
          "data": {
            "text/html": [
              "<table class=\"dataframe\">\n",
              "<caption>A data.frame: 7 × 9</caption>\n",
              "<thead>\n",
              "\t<tr><th></th><th scope=col>X</th><th scope=col>Year</th><th scope=col>Movie</th><th scope=col>US_Gross</th><th scope=col>Budget</th><th scope=col>Avg_User_IMDB</th><th scope=col>Avg_User_Rtn_Tom</th><th scope=col>Kills_Bond</th><th scope=col>Kills_Others</th></tr>\n",
              "\t<tr><th></th><th scope=col>&lt;int&gt;</th><th scope=col>&lt;int&gt;</th><th scope=col>&lt;chr&gt;</th><th scope=col>&lt;dbl&gt;</th><th scope=col>&lt;dbl&gt;</th><th scope=col>&lt;dbl&gt;</th><th scope=col>&lt;dbl&gt;</th><th scope=col>&lt;int&gt;</th><th scope=col>&lt;int&gt;</th></tr>\n",
              "</thead>\n",
              "<tbody>\n",
              "\t<tr><th scope=row>18</th><td>18</td><td>1997</td><td>Tomorrow Never Dies    </td><td>125.3043</td><td>110</td><td>6.4</td><td>6.0</td><td>30</td><td> 24</td></tr>\n",
              "\t<tr><th scope=row>19</th><td>19</td><td>1999</td><td>The World Is Not Enough</td><td>126.9307</td><td>135</td><td>6.3</td><td>5.7</td><td>27</td><td> 43</td></tr>\n",
              "\t<tr><th scope=row>20</th><td>20</td><td>2002</td><td>Die Another Day        </td><td>160.9421</td><td>142</td><td>6.0</td><td>6.1</td><td>31</td><td> 20</td></tr>\n",
              "\t<tr><th scope=row>21</th><td>21</td><td>2006</td><td>Casino Royale          </td><td>167.3650</td><td>102</td><td>7.9</td><td>7.8</td><td>11</td><td> 11</td></tr>\n",
              "\t<tr><th scope=row>22</th><td>22</td><td>2008</td><td>Quantum of Solace      </td><td>169.3684</td><td>230</td><td>6.7</td><td>6.1</td><td>16</td><td> 15</td></tr>\n",
              "\t<tr><th scope=row>23</th><td>23</td><td>2012</td><td>Skyfall                </td><td>304.3603</td><td>200</td><td>7.8</td><td>8.2</td><td>26</td><td> 26</td></tr>\n",
              "\t<tr><th scope=row>24</th><td>24</td><td>2015</td><td>Spectre                </td><td>200.0742</td><td>245</td><td>6.8</td><td>6.4</td><td>30</td><td>205</td></tr>\n",
              "</tbody>\n",
              "</table>\n"
            ],
            "text/markdown": "\nA data.frame: 7 × 9\n\n| <!--/--> | X &lt;int&gt; | Year &lt;int&gt; | Movie &lt;chr&gt; | US_Gross &lt;dbl&gt; | Budget &lt;dbl&gt; | Avg_User_IMDB &lt;dbl&gt; | Avg_User_Rtn_Tom &lt;dbl&gt; | Kills_Bond &lt;int&gt; | Kills_Others &lt;int&gt; |\n|---|---|---|---|---|---|---|---|---|---|\n| 18 | 18 | 1997 | Tomorrow Never Dies     | 125.3043 | 110 | 6.4 | 6.0 | 30 |  24 |\n| 19 | 19 | 1999 | The World Is Not Enough | 126.9307 | 135 | 6.3 | 5.7 | 27 |  43 |\n| 20 | 20 | 2002 | Die Another Day         | 160.9421 | 142 | 6.0 | 6.1 | 31 |  20 |\n| 21 | 21 | 2006 | Casino Royale           | 167.3650 | 102 | 7.9 | 7.8 | 11 |  11 |\n| 22 | 22 | 2008 | Quantum of Solace       | 169.3684 | 230 | 6.7 | 6.1 | 16 |  15 |\n| 23 | 23 | 2012 | Skyfall                 | 304.3603 | 200 | 7.8 | 8.2 | 26 |  26 |\n| 24 | 24 | 2015 | Spectre                 | 200.0742 | 245 | 6.8 | 6.4 | 30 | 205 |\n\n",
            "text/latex": "A data.frame: 7 × 9\n\\begin{tabular}{r|lllllllll}\n  & X & Year & Movie & US\\_Gross & Budget & Avg\\_User\\_IMDB & Avg\\_User\\_Rtn\\_Tom & Kills\\_Bond & Kills\\_Others\\\\\n  & <int> & <int> & <chr> & <dbl> & <dbl> & <dbl> & <dbl> & <int> & <int>\\\\\n\\hline\n\t18 & 18 & 1997 & Tomorrow Never Dies     & 125.3043 & 110 & 6.4 & 6.0 & 30 &  24\\\\\n\t19 & 19 & 1999 & The World Is Not Enough & 126.9307 & 135 & 6.3 & 5.7 & 27 &  43\\\\\n\t20 & 20 & 2002 & Die Another Day         & 160.9421 & 142 & 6.0 & 6.1 & 31 &  20\\\\\n\t21 & 21 & 2006 & Casino Royale           & 167.3650 & 102 & 7.9 & 7.8 & 11 &  11\\\\\n\t22 & 22 & 2008 & Quantum of Solace       & 169.3684 & 230 & 6.7 & 6.1 & 16 &  15\\\\\n\t23 & 23 & 2012 & Skyfall                 & 304.3603 & 200 & 7.8 & 8.2 & 26 &  26\\\\\n\t24 & 24 & 2015 & Spectre                 & 200.0742 & 245 & 6.8 & 6.4 & 30 & 205\\\\\n\\end{tabular}\n",
            "text/plain": [
              "   X  Year Movie                   US_Gross Budget Avg_User_IMDB\n",
              "18 18 1997 Tomorrow Never Dies     125.3043 110    6.4          \n",
              "19 19 1999 The World Is Not Enough 126.9307 135    6.3          \n",
              "20 20 2002 Die Another Day         160.9421 142    6.0          \n",
              "21 21 2006 Casino Royale           167.3650 102    7.9          \n",
              "22 22 2008 Quantum of Solace       169.3684 230    6.7          \n",
              "23 23 2012 Skyfall                 304.3603 200    7.8          \n",
              "24 24 2015 Spectre                 200.0742 245    6.8          \n",
              "   Avg_User_Rtn_Tom Kills_Bond Kills_Others\n",
              "18 6.0              30          24         \n",
              "19 5.7              27          43         \n",
              "20 6.1              31          20         \n",
              "21 7.8              11          11         \n",
              "22 6.1              16          15         \n",
              "23 8.2              26          26         \n",
              "24 6.4              30         205         "
            ]
          },
          "metadata": {}
        }
      ]
    },
    {
      "cell_type": "markdown",
      "source": [
        "### $\\color{magenta}{\\text{Your Turn!}}$\n",
        "\n",
        "Make a scatter plot to investigate the relationship between the budget, and US gross earnings. What would you say about the relationship? Do the gross earnings depend on the budget? Are there any strange points?\n",
        "\n",
        "What movies had US gross earnings more than 200 000 000 dollars?"
      ],
      "metadata": {
        "id": "u0xusLDf503T"
      },
      "id": "u0xusLDf503T"
    },
    {
      "cell_type": "code",
      "source": [
        "#enter your code here"
      ],
      "metadata": {
        "id": "OkTSzM3x6JSw"
      },
      "id": "OkTSzM3x6JSw",
      "execution_count": null,
      "outputs": []
    },
    {
      "cell_type": "markdown",
      "source": [
        "Double click here to answer the question."
      ],
      "metadata": {
        "id": "l2_-sTlV6Lp2"
      },
      "id": "l2_-sTlV6Lp2"
    },
    {
      "cell_type": "markdown",
      "source": [
        "## $\\color{olive}{\\text{Linear Regression}}$\n",
        "\n",
        "We saw with our scatter plots that there were relationships between some of our variables. We would like to find out what that relationship is. We can do something called linear regression do find the relationship.\n",
        "\n",
        "### $\\color{violet}{\\text{What is Linear Regression?}}$\n",
        "\n",
        "Linear regression is a way to find the best straight line that shows how two things are connected. It looks at lots of points and figures out a line that is as close as possible to all of them.\n",
        "\n",
        "This line helps us understand how one thing changes when the other thing changes. It also lets us make guesses, or predictions, based on that connection.\n",
        "\n",
        "I can add the regression line to our scatter plot very easily by adding the following function:\n",
        "  - geom_smooth(method='lm',formula=y~x)\n",
        "\n",
        "Let's add our regression line to the Budget Vs. Year scatter plot.\n",
        "\n"
      ],
      "metadata": {
        "id": "301QPQph9rGF"
      },
      "id": "301QPQph9rGF"
    },
    {
      "cell_type": "code",
      "source": [
        "ggplot(Bond, aes(x = Year, y = Budget)) + geom_point(color = \"cornflowerblue\" )+ geom_smooth(method='lm',formula=y~x)"
      ],
      "metadata": {
        "colab": {
          "base_uri": "https://localhost:8080/",
          "height": 437
        },
        "id": "hN6r6S2mCI5e",
        "outputId": "7df64a73-09d8-433b-e213-651cebcf1807"
      },
      "id": "hN6r6S2mCI5e",
      "execution_count": 49,
      "outputs": [
        {
          "output_type": "display_data",
          "data": {
            "text/plain": [
              "plot without title"
            ],
            "image/png": "[encoded data removed]"
          },
          "metadata": {
            "image/png": {
              "width": 420,
              "height": 420
            }
          }
        }
      ]
    },
    {
      "cell_type": "markdown",
      "source": [
        "The Blue line is our regression line! This is the line that best fits our data. The line is where we would predict the budget is for different years, while the points represent what the actual budget was for specific years.\n",
        "\n",
        "For example, we would predict that for 1995 the budget would be close to 105 000 000 dollars, but it was actually under 100 000 000 dollars.\n",
        "\n",
        "### $\\color{magenta}{\\text{Your Turn!}}$\n",
        "\n",
        "Add the regression line to the Gross Earnings Vs. Budget plot. What would you expect the earnings to be if the budget was 200 million dollars? What were the gross earnings for a movie that actually had a budget of 100 million dollars?"
      ],
      "metadata": {
        "id": "TpN5j-K3DcJq"
      },
      "id": "TpN5j-K3DcJq"
    },
    {
      "cell_type": "code",
      "source": [
        "# Enter your code here"
      ],
      "metadata": {
        "id": "25EAjWt9Gk9h"
      },
      "id": "25EAjWt9Gk9h",
      "execution_count": null,
      "outputs": []
    },
    {
      "cell_type": "markdown",
      "source": [
        "Double Click here to type out your answer"
      ],
      "metadata": {
        "id": "0G-nLY0PGm2n"
      },
      "id": "0G-nLY0PGm2n"
    },
    {
      "cell_type": "markdown",
      "source": [
        "\n",
        "### $\\color{violet}{\\text{Equation of the Regression Line}}$\n",
        "\n",
        "Now that we know how to make the regression line, and how to visualize it,let's find out how to make the equation using R.\n",
        "\n",
        "- We can use the function lm() in R to make the regression line. The output from this function gives us a lot of information, but we only need to grab two values from the output.\n",
        "\n",
        "Let's find out what the equation regression line is when looking at Budget vs. Year.\n",
        "\n",
        "- lm(Yvariable~Xvariable, data = Name_of_dataset)"
      ],
      "metadata": {
        "id": "ewR8LMG9Gpwi"
      },
      "id": "ewR8LMG9Gpwi"
    },
    {
      "cell_type": "code",
      "source": [
        "lm(Budget~Year, data = Bond)"
      ],
      "metadata": {
        "colab": {
          "base_uri": "https://localhost:8080/",
          "height": 142
        },
        "id": "KLKp3aL0HI_a",
        "outputId": "d1d8a557-e37f-4ba6-f4c8-831c1872947c"
      },
      "id": "KLKp3aL0HI_a",
      "execution_count": 50,
      "outputs": [
        {
          "output_type": "display_data",
          "data": {
            "text/plain": [
              "\n",
              "Call:\n",
              "lm(formula = Budget ~ Year, data = Bond)\n",
              "\n",
              "Coefficients:\n",
              "(Intercept)         Year  \n",
              "  -8178.118        4.153  \n"
            ]
          },
          "metadata": {}
        }
      ]
    },
    {
      "cell_type": "markdown",
      "source": [
        "Using the two values given, we can write the regression equation as:\n",
        "\n",
        "Budget $= -8178.118 + 4.153 \\times$ Year\n",
        "\n",
        "We can use the regression line to make some predictions now!\n",
        "\n",
        "If a Bond movie was made in the year 2005, we would predict the budget to be:\n",
        "\n",
        "Budget = $-8178.118 + 4.153 \\times 2005 = 148.647 million dollars!\n",
        "\n",
        "\n"
      ],
      "metadata": {
        "id": "EZ8NMs6-HM4o"
      },
      "id": "EZ8NMs6-HM4o"
    },
    {
      "cell_type": "code",
      "source": [
        "-8178.118 + 4.153 * 2005"
      ],
      "metadata": {
        "colab": {
          "base_uri": "https://localhost:8080/",
          "height": 34
        },
        "id": "rpNBooYBH1-l",
        "outputId": "d6d520f1-4123-4e84-9975-bc9f2b82b548"
      },
      "id": "rpNBooYBH1-l",
      "execution_count": 52,
      "outputs": [
        {
          "output_type": "display_data",
          "data": {
            "text/html": [
              "148.646999999999"
            ],
            "text/markdown": "148.646999999999",
            "text/latex": "148.646999999999",
            "text/plain": [
              "[1] 148.647"
            ]
          },
          "metadata": {}
        }
      ]
    },
    {
      "cell_type": "markdown",
      "source": [
        "Let's print out my dataset:"
      ],
      "metadata": {
        "id": "Y7DrQOavING1"
      },
      "id": "Y7DrQOavING1"
    },
    {
      "cell_type": "code",
      "source": [
        "Bond"
      ],
      "metadata": {
        "colab": {
          "base_uri": "https://localhost:8080/",
          "height": 851
        },
        "id": "7n6bTHy4IQP2",
        "outputId": "72c7b662-eefb-4ce2-f5e7-dabd96e2d496"
      },
      "id": "7n6bTHy4IQP2",
      "execution_count": 53,
      "outputs": [
        {
          "output_type": "display_data",
          "data": {
            "text/html": [
              "<table class=\"dataframe\">\n",
              "<caption>A data.frame: 24 × 9</caption>\n",
              "<thead>\n",
              "\t<tr><th scope=col>X</th><th scope=col>Year</th><th scope=col>Movie</th><th scope=col>US_Gross</th><th scope=col>Budget</th><th scope=col>Avg_User_IMDB</th><th scope=col>Avg_User_Rtn_Tom</th><th scope=col>Kills_Bond</th><th scope=col>Kills_Others</th></tr>\n",
              "\t<tr><th scope=col>&lt;int&gt;</th><th scope=col>&lt;int&gt;</th><th scope=col>&lt;chr&gt;</th><th scope=col>&lt;dbl&gt;</th><th scope=col>&lt;dbl&gt;</th><th scope=col>&lt;dbl&gt;</th><th scope=col>&lt;dbl&gt;</th><th scope=col>&lt;int&gt;</th><th scope=col>&lt;int&gt;</th></tr>\n",
              "</thead>\n",
              "<tbody>\n",
              "\t<tr><td> 1</td><td>1962</td><td>Dr. No                         </td><td> 16.06704</td><td>  1.0</td><td>7.3</td><td>7.7</td><td> 4</td><td>  8</td></tr>\n",
              "\t<tr><td> 2</td><td>1963</td><td>From Russia with Love          </td><td> 24.80000</td><td>  2.0</td><td>7.5</td><td>8.0</td><td>11</td><td> 16</td></tr>\n",
              "\t<tr><td> 3</td><td>1964</td><td>Goldfinger                     </td><td> 51.10000</td><td>  3.0</td><td>7.8</td><td>8.4</td><td> 9</td><td> 68</td></tr>\n",
              "\t<tr><td> 4</td><td>1965</td><td>Thunderball                    </td><td> 63.60000</td><td>  9.0</td><td>7.0</td><td>6.8</td><td>20</td><td> 90</td></tr>\n",
              "\t<tr><td> 5</td><td>1967</td><td>You Only Live Twice            </td><td> 43.10000</td><td>  9.5</td><td>6.9</td><td>6.3</td><td>21</td><td>175</td></tr>\n",
              "\t<tr><td> 6</td><td>1969</td><td>On Her Majesty's Secret Service</td><td> 22.80000</td><td>  8.0</td><td>6.8</td><td>6.7</td><td> 5</td><td> 37</td></tr>\n",
              "\t<tr><td> 7</td><td>1971</td><td>Diamonds Are Forever           </td><td> 43.80000</td><td>  7.2</td><td>6.7</td><td>6.3</td><td> 7</td><td> 42</td></tr>\n",
              "\t<tr><td> 8</td><td>1973</td><td>Live and Let Die               </td><td> 35.40000</td><td>  7.0</td><td>6.8</td><td>5.9</td><td> 8</td><td>  5</td></tr>\n",
              "\t<tr><td> 9</td><td>1974</td><td>The Man with the Golden Gun    </td><td> 21.00000</td><td>  7.0</td><td>6.7</td><td>5.1</td><td> 1</td><td>  5</td></tr>\n",
              "\t<tr><td>10</td><td>1977</td><td>The Spy Who Loved Me           </td><td> 46.80000</td><td> 14.0</td><td>7.1</td><td>6.8</td><td>31</td><td>116</td></tr>\n",
              "\t<tr><td>11</td><td>1979</td><td>Moonraker                      </td><td> 70.30000</td><td> 31.0</td><td>6.2</td><td>5.7</td><td>12</td><td> 69</td></tr>\n",
              "\t<tr><td>12</td><td>1981</td><td>For Your Eyes Only             </td><td> 54.80000</td><td> 28.0</td><td>6.8</td><td>6.3</td><td>18</td><td> 36</td></tr>\n",
              "\t<tr><td>13</td><td>1983</td><td>Octopussy                      </td><td> 67.90000</td><td> 27.5</td><td>6.5</td><td>5.3</td><td>15</td><td> 43</td></tr>\n",
              "\t<tr><td>14</td><td>1985</td><td>A View to a Kill               </td><td> 50.32796</td><td> 30.0</td><td>6.2</td><td>4.7</td><td> 5</td><td> 57</td></tr>\n",
              "\t<tr><td>15</td><td>1987</td><td>The Living Daylights           </td><td> 51.18500</td><td> 40.0</td><td>6.7</td><td>6.3</td><td>13</td><td> 29</td></tr>\n",
              "\t<tr><td>16</td><td>1989</td><td>License to Kill                </td><td> 34.66701</td><td> 42.0</td><td>6.5</td><td>6.0</td><td>10</td><td> 13</td></tr>\n",
              "\t<tr><td>17</td><td>1995</td><td>GoldenEye                      </td><td>106.42994</td><td> 60.0</td><td>7.2</td><td>6.9</td><td>47</td><td> 25</td></tr>\n",
              "\t<tr><td>18</td><td>1997</td><td>Tomorrow Never Dies            </td><td>125.30428</td><td>110.0</td><td>6.4</td><td>6.0</td><td>30</td><td> 24</td></tr>\n",
              "\t<tr><td>19</td><td>1999</td><td>The World Is Not Enough        </td><td>126.93066</td><td>135.0</td><td>6.3</td><td>5.7</td><td>27</td><td> 43</td></tr>\n",
              "\t<tr><td>20</td><td>2002</td><td>Die Another Day                </td><td>160.94214</td><td>142.0</td><td>6.0</td><td>6.1</td><td>31</td><td> 20</td></tr>\n",
              "\t<tr><td>21</td><td>2006</td><td>Casino Royale                  </td><td>167.36500</td><td>102.0</td><td>7.9</td><td>7.8</td><td>11</td><td> 11</td></tr>\n",
              "\t<tr><td>22</td><td>2008</td><td>Quantum of Solace              </td><td>169.36843</td><td>230.0</td><td>6.7</td><td>6.1</td><td>16</td><td> 15</td></tr>\n",
              "\t<tr><td>23</td><td>2012</td><td>Skyfall                        </td><td>304.36028</td><td>200.0</td><td>7.8</td><td>8.2</td><td>26</td><td> 26</td></tr>\n",
              "\t<tr><td>24</td><td>2015</td><td>Spectre                        </td><td>200.07417</td><td>245.0</td><td>6.8</td><td>6.4</td><td>30</td><td>205</td></tr>\n",
              "</tbody>\n",
              "</table>\n"
            ],
            "text/markdown": "\nA data.frame: 24 × 9\n\n| X &lt;int&gt; | Year &lt;int&gt; | Movie &lt;chr&gt; | US_Gross &lt;dbl&gt; | Budget &lt;dbl&gt; | Avg_User_IMDB &lt;dbl&gt; | Avg_User_Rtn_Tom &lt;dbl&gt; | Kills_Bond &lt;int&gt; | Kills_Others &lt;int&gt; |\n|---|---|---|---|---|---|---|---|---|\n|  1 | 1962 | Dr. No                          |  16.06704 |   1.0 | 7.3 | 7.7 |  4 |   8 |\n|  2 | 1963 | From Russia with Love           |  24.80000 |   2.0 | 7.5 | 8.0 | 11 |  16 |\n|  3 | 1964 | Goldfinger                      |  51.10000 |   3.0 | 7.8 | 8.4 |  9 |  68 |\n|  4 | 1965 | Thunderball                     |  63.60000 |   9.0 | 7.0 | 6.8 | 20 |  90 |\n|  5 | 1967 | You Only Live Twice             |  43.10000 |   9.5 | 6.9 | 6.3 | 21 | 175 |\n|  6 | 1969 | On Her Majesty's Secret Service |  22.80000 |   8.0 | 6.8 | 6.7 |  5 |  37 |\n|  7 | 1971 | Diamonds Are Forever            |  43.80000 |   7.2 | 6.7 | 6.3 |  7 |  42 |\n|  8 | 1973 | Live and Let Die                |  35.40000 |   7.0 | 6.8 | 5.9 |  8 |   5 |\n|  9 | 1974 | The Man with the Golden Gun     |  21.00000 |   7.0 | 6.7 | 5.1 |  1 |   5 |\n| 10 | 1977 | The Spy Who Loved Me            |  46.80000 |  14.0 | 7.1 | 6.8 | 31 | 116 |\n| 11 | 1979 | Moonraker                       |  70.30000 |  31.0 | 6.2 | 5.7 | 12 |  69 |\n| 12 | 1981 | For Your Eyes Only              |  54.80000 |  28.0 | 6.8 | 6.3 | 18 |  36 |\n| 13 | 1983 | Octopussy                       |  67.90000 |  27.5 | 6.5 | 5.3 | 15 |  43 |\n| 14 | 1985 | A View to a Kill                |  50.32796 |  30.0 | 6.2 | 4.7 |  5 |  57 |\n| 15 | 1987 | The Living Daylights            |  51.18500 |  40.0 | 6.7 | 6.3 | 13 |  29 |\n| 16 | 1989 | License to Kill                 |  34.66701 |  42.0 | 6.5 | 6.0 | 10 |  13 |\n| 17 | 1995 | GoldenEye                       | 106.42994 |  60.0 | 7.2 | 6.9 | 47 |  25 |\n| 18 | 1997 | Tomorrow Never Dies             | 125.30428 | 110.0 | 6.4 | 6.0 | 30 |  24 |\n| 19 | 1999 | The World Is Not Enough         | 126.93066 | 135.0 | 6.3 | 5.7 | 27 |  43 |\n| 20 | 2002 | Die Another Day                 | 160.94214 | 142.0 | 6.0 | 6.1 | 31 |  20 |\n| 21 | 2006 | Casino Royale                   | 167.36500 | 102.0 | 7.9 | 7.8 | 11 |  11 |\n| 22 | 2008 | Quantum of Solace               | 169.36843 | 230.0 | 6.7 | 6.1 | 16 |  15 |\n| 23 | 2012 | Skyfall                         | 304.36028 | 200.0 | 7.8 | 8.2 | 26 |  26 |\n| 24 | 2015 | Spectre                         | 200.07417 | 245.0 | 6.8 | 6.4 | 30 | 205 |\n\n",
            "text/latex": "A data.frame: 24 × 9\n\\begin{tabular}{lllllllll}\n X & Year & Movie & US\\_Gross & Budget & Avg\\_User\\_IMDB & Avg\\_User\\_Rtn\\_Tom & Kills\\_Bond & Kills\\_Others\\\\\n <int> & <int> & <chr> & <dbl> & <dbl> & <dbl> & <dbl> & <int> & <int>\\\\\n\\hline\n\t  1 & 1962 & Dr. No                          &  16.06704 &   1.0 & 7.3 & 7.7 &  4 &   8\\\\\n\t  2 & 1963 & From Russia with Love           &  24.80000 &   2.0 & 7.5 & 8.0 & 11 &  16\\\\\n\t  3 & 1964 & Goldfinger                      &  51.10000 &   3.0 & 7.8 & 8.4 &  9 &  68\\\\\n\t  4 & 1965 & Thunderball                     &  63.60000 &   9.0 & 7.0 & 6.8 & 20 &  90\\\\\n\t  5 & 1967 & You Only Live Twice             &  43.10000 &   9.5 & 6.9 & 6.3 & 21 & 175\\\\\n\t  6 & 1969 & On Her Majesty's Secret Service &  22.80000 &   8.0 & 6.8 & 6.7 &  5 &  37\\\\\n\t  7 & 1971 & Diamonds Are Forever            &  43.80000 &   7.2 & 6.7 & 6.3 &  7 &  42\\\\\n\t  8 & 1973 & Live and Let Die                &  35.40000 &   7.0 & 6.8 & 5.9 &  8 &   5\\\\\n\t  9 & 1974 & The Man with the Golden Gun     &  21.00000 &   7.0 & 6.7 & 5.1 &  1 &   5\\\\\n\t 10 & 1977 & The Spy Who Loved Me            &  46.80000 &  14.0 & 7.1 & 6.8 & 31 & 116\\\\\n\t 11 & 1979 & Moonraker                       &  70.30000 &  31.0 & 6.2 & 5.7 & 12 &  69\\\\\n\t 12 & 1981 & For Your Eyes Only              &  54.80000 &  28.0 & 6.8 & 6.3 & 18 &  36\\\\\n\t 13 & 1983 & Octopussy                       &  67.90000 &  27.5 & 6.5 & 5.3 & 15 &  43\\\\\n\t 14 & 1985 & A View to a Kill                &  50.32796 &  30.0 & 6.2 & 4.7 &  5 &  57\\\\\n\t 15 & 1987 & The Living Daylights            &  51.18500 &  40.0 & 6.7 & 6.3 & 13 &  29\\\\\n\t 16 & 1989 & License to Kill                 &  34.66701 &  42.0 & 6.5 & 6.0 & 10 &  13\\\\\n\t 17 & 1995 & GoldenEye                       & 106.42994 &  60.0 & 7.2 & 6.9 & 47 &  25\\\\\n\t 18 & 1997 & Tomorrow Never Dies             & 125.30428 & 110.0 & 6.4 & 6.0 & 30 &  24\\\\\n\t 19 & 1999 & The World Is Not Enough         & 126.93066 & 135.0 & 6.3 & 5.7 & 27 &  43\\\\\n\t 20 & 2002 & Die Another Day                 & 160.94214 & 142.0 & 6.0 & 6.1 & 31 &  20\\\\\n\t 21 & 2006 & Casino Royale                   & 167.36500 & 102.0 & 7.9 & 7.8 & 11 &  11\\\\\n\t 22 & 2008 & Quantum of Solace               & 169.36843 & 230.0 & 6.7 & 6.1 & 16 &  15\\\\\n\t 23 & 2012 & Skyfall                         & 304.36028 & 200.0 & 7.8 & 8.2 & 26 &  26\\\\\n\t 24 & 2015 & Spectre                         & 200.07417 & 245.0 & 6.8 & 6.4 & 30 & 205\\\\\n\\end{tabular}\n",
            "text/plain": [
              "   X  Year Movie                           US_Gross  Budget Avg_User_IMDB\n",
              "1   1 1962 Dr. No                           16.06704   1.0  7.3          \n",
              "2   2 1963 From Russia with Love            24.80000   2.0  7.5          \n",
              "3   3 1964 Goldfinger                       51.10000   3.0  7.8          \n",
              "4   4 1965 Thunderball                      63.60000   9.0  7.0          \n",
              "5   5 1967 You Only Live Twice              43.10000   9.5  6.9          \n",
              "6   6 1969 On Her Majesty's Secret Service  22.80000   8.0  6.8          \n",
              "7   7 1971 Diamonds Are Forever             43.80000   7.2  6.7          \n",
              "8   8 1973 Live and Let Die                 35.40000   7.0  6.8          \n",
              "9   9 1974 The Man with the Golden Gun      21.00000   7.0  6.7          \n",
              "10 10 1977 The Spy Who Loved Me             46.80000  14.0  7.1          \n",
              "11 11 1979 Moonraker                        70.30000  31.0  6.2          \n",
              "12 12 1981 For Your Eyes Only               54.80000  28.0  6.8          \n",
              "13 13 1983 Octopussy                        67.90000  27.5  6.5          \n",
              "14 14 1985 A View to a Kill                 50.32796  30.0  6.2          \n",
              "15 15 1987 The Living Daylights             51.18500  40.0  6.7          \n",
              "16 16 1989 License to Kill                  34.66701  42.0  6.5          \n",
              "17 17 1995 GoldenEye                       106.42994  60.0  7.2          \n",
              "18 18 1997 Tomorrow Never Dies             125.30428 110.0  6.4          \n",
              "19 19 1999 The World Is Not Enough         126.93066 135.0  6.3          \n",
              "20 20 2002 Die Another Day                 160.94214 142.0  6.0          \n",
              "21 21 2006 Casino Royale                   167.36500 102.0  7.9          \n",
              "22 22 2008 Quantum of Solace               169.36843 230.0  6.7          \n",
              "23 23 2012 Skyfall                         304.36028 200.0  7.8          \n",
              "24 24 2015 Spectre                         200.07417 245.0  6.8          \n",
              "   Avg_User_Rtn_Tom Kills_Bond Kills_Others\n",
              "1  7.7               4           8         \n",
              "2  8.0              11          16         \n",
              "3  8.4               9          68         \n",
              "4  6.8              20          90         \n",
              "5  6.3              21         175         \n",
              "6  6.7               5          37         \n",
              "7  6.3               7          42         \n",
              "8  5.9               8           5         \n",
              "9  5.1               1           5         \n",
              "10 6.8              31         116         \n",
              "11 5.7              12          69         \n",
              "12 6.3              18          36         \n",
              "13 5.3              15          43         \n",
              "14 4.7               5          57         \n",
              "15 6.3              13          29         \n",
              "16 6.0              10          13         \n",
              "17 6.9              47          25         \n",
              "18 6.0              30          24         \n",
              "19 5.7              27          43         \n",
              "20 6.1              31          20         \n",
              "21 7.8              11          11         \n",
              "22 6.1              16          15         \n",
              "23 8.2              26          26         \n",
              "24 6.4              30         205         "
            ]
          },
          "metadata": {}
        }
      ]
    },
    {
      "cell_type": "markdown",
      "source": [
        "The Bond movie \"Licence To Kill\" came out in the year 1989. The budget for the movie was 42 million dollars. What would my regression line predict the budget to be?"
      ],
      "metadata": {
        "id": "i23aaohAH6I_"
      },
      "id": "i23aaohAH6I_"
    },
    {
      "cell_type": "code",
      "source": [
        "-8178.118 + 4.153 * 1989"
      ],
      "metadata": {
        "colab": {
          "base_uri": "https://localhost:8080/",
          "height": 34
        },
        "id": "B-kENAdaIYW2",
        "outputId": "189deb1d-aac5-4890-b034-610689f18064"
      },
      "id": "B-kENAdaIYW2",
      "execution_count": 54,
      "outputs": [
        {
          "output_type": "display_data",
          "data": {
            "text/html": [
              "82.1989999999987"
            ],
            "text/markdown": "82.1989999999987",
            "text/latex": "82.1989999999987",
            "text/plain": [
              "[1] 82.199"
            ]
          },
          "metadata": {}
        }
      ]
    },
    {
      "cell_type": "markdown",
      "source": [
        "My regression line would predict the budget in 1989 to be 82.1989 million dollars, this is quite a bit higher that what the actual budget was!\n",
        "  - It is important to remember that the regression line gives ESTIMATES. So the Estimate may be different from the truth.\n",
        "  - In this case the regression line over estimates the budget because the estimated budget is higher than the true budget."
      ],
      "metadata": {
        "id": "t17M93JNIcN5"
      },
      "id": "t17M93JNIcN5"
    },
    {
      "cell_type": "markdown",
      "source": [
        "### $\\color{magenta}{\\text{Your Turn!}}$\n",
        "\n",
        "Find out what the regression equation is for the Gross Earnings vs Budget relationship. Use R to get the values, then type out the regression equation."
      ],
      "metadata": {
        "id": "capMSCpNIv-H"
      },
      "id": "capMSCpNIv-H"
    },
    {
      "cell_type": "code",
      "source": [
        "#enter your code here"
      ],
      "metadata": {
        "id": "qEcg7z-gI-bn"
      },
      "id": "qEcg7z-gI-bn",
      "execution_count": null,
      "outputs": []
    },
    {
      "cell_type": "markdown",
      "source": [
        "Double click here and type out the regression equation."
      ],
      "metadata": {
        "id": "Y35W9G_OI_sy"
      },
      "id": "Y35W9G_OI_sy"
    },
    {
      "cell_type": "markdown",
      "source": [
        "### $\\color{magenta}{\\text{Your Turn!}}$\n",
        "\n",
        "Predict what the gross earnings would be for a Bond movie with a budget of 150 million dollars. Do your calculations in R."
      ],
      "metadata": {
        "id": "W8VQ1IIsJJaA"
      },
      "id": "W8VQ1IIsJJaA"
    },
    {
      "cell_type": "code",
      "source": [],
      "metadata": {
        "id": "2ZiuPpx2JUin"
      },
      "id": "2ZiuPpx2JUin",
      "execution_count": null,
      "outputs": []
    },
    {
      "cell_type": "markdown",
      "source": [
        "Double click here to type out your answer."
      ],
      "metadata": {
        "id": "UwhYA7CJJU5o"
      },
      "id": "UwhYA7CJJU5o"
    },
    {
      "cell_type": "markdown",
      "source": [
        "### $\\color{magenta}{\\text{Your Turn!}}$\n",
        "\n",
        "The Bond movie \"Spectre\" had a budget of 245 million dollars. The gross earnings in the US were 200.07 million dollars.\n",
        "\n",
        "Use the regression equation to predict what the earnings of a Bond movie with a budget of 245 million dollars would be. Is this estimate an over or underestimate?\n",
        "\n",
        "Do your calculations in the code chunk below."
      ],
      "metadata": {
        "id": "Pgqeuf8tJYBl"
      },
      "id": "Pgqeuf8tJYBl"
    },
    {
      "cell_type": "code",
      "source": [],
      "metadata": {
        "id": "oFzf-tbEKCw3"
      },
      "id": "oFzf-tbEKCw3",
      "execution_count": null,
      "outputs": []
    },
    {
      "cell_type": "markdown",
      "source": [
        "Double Click here to type out your answer."
      ],
      "metadata": {
        "id": "9QfgdvFHKDFM"
      },
      "id": "9QfgdvFHKDFM"
    }
  ],
  "metadata": {
    "kernelspec": {
      "display_name": "R",
      "language": "R",
      "name": "ir"
    },
    "language_info": {
      "codemirror_mode": "r",
      "file_extension": ".r",
      "mimetype": "text/x-r-source",
      "name": "R",
      "pygments_lexer": "r",
      "version": "4.4.1"
    },
    "colab": {
      "provenance": []
    }
  },
  "nbformat": 4,
  "nbformat_minor": 5
}