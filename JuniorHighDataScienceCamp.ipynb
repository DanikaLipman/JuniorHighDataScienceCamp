{
  "cells": [
    {
      "cell_type": "markdown",
      "source": [
        "# $\\color{violet}{\\text{Welcome To Data Science Camp!}}$\n",
        "\n",
        "## $\\color{olive}{\\text{What is Data Science?}}$\n",
        "\n",
        "- Data science is a  field that uses techniques from statistics, computer science, and domain expertise to extract insights and knowledge from data\n",
        "- Data science includes:\n",
        "  - Data Collection\n",
        "  - Data Cleaning\n",
        "  - Exploratory Data Analysis (EDA)\n",
        "    - Visualizing and summarizing data to understand patterns.\n",
        "  - Statistical Modeling & Machine Learning\n",
        "- In this camp we will focus on Exploratory Data Analysis!"
      ],
      "metadata": {
        "id": "Qti9GYQ5ezMB"
      },
      "id": "Qti9GYQ5ezMB"
    },
    {
      "cell_type": "markdown",
      "source": [
        "\n",
        "# $\\color{cyan}{\\text{Learning to Work With R}}$\n",
        "\n",
        "- We will be analyzing the datasets using a computer programming language called R.\n",
        "\n",
        "- Before we begin our data analysis, lets learn some of the basics to the coding language.\n",
        "\n",
        "- We can perform basic operation in R such as addition, multiplication, exponents, subtraction and division.\n",
        "\n",
        "- **NOTE**: To put comments into R we can use # then type whatever your comment is. This is a line in the code that is not run.\n",
        "\n",
        "- **NOTE**: To run a chunk of code in this notebook, hit the play button to the left of the code chunk.\n",
        "\n",
        "- Let's try it! If we want to find the answer to $(5+2)^2 -6 \\div 3$ we can input this into R as:"
      ],
      "metadata": {
        "id": "NbzQWBZqvfYX"
      },
      "id": "NbzQWBZqvfYX"
    },
    {
      "cell_type": "code",
      "source": [
        "#this is a comment! This will not run. Rather, it is a note for the coder.\n",
        "(5+2)^2 -6/3"
      ],
      "metadata": {
        "colab": {
          "base_uri": "https://localhost:8080/",
          "height": 34
        },
        "id": "TJhoqzARNTAh",
        "outputId": "8763d951-7a31-43c3-d41b-dbb7acf9d978"
      },
      "id": "TJhoqzARNTAh",
      "execution_count": null,
      "outputs": [
        {
          "output_type": "display_data",
          "data": {
            "text/html": [
              "47"
            ],
            "text/markdown": "47",
            "text/latex": "47",
            "text/plain": [
              "[1] 47"
            ]
          },
          "metadata": {}
        }
      ]
    },
    {
      "cell_type": "markdown",
      "source": [
        "### $\\color{magenta}{\\text{Your Turn!}}$\n",
        "\n",
        " In the code chunk below, compute $(5-2)^2 +12 \\div 4$"
      ],
      "metadata": {
        "id": "ECP4t8wlNSqg"
      },
      "id": "ECP4t8wlNSqg"
    },
    {
      "cell_type": "code",
      "source": [
        "#enter your code here."
      ],
      "metadata": {
        "id": "GPW0xUtRN4yi"
      },
      "id": "GPW0xUtRN4yi",
      "execution_count": null,
      "outputs": []
    },
    {
      "cell_type": "markdown",
      "source": [
        "## $\\color{olive}{\\text{Functions}}$\n",
        "\n",
        "\n",
        "\n",
        "\n",
        "Great work! Now we will talk about funcitons.\n",
        "\n",
        "A function in coding is a chunk of code that performs a specific task. For example, in R the function sqrt() will find the square root of a number.\n",
        "\n",
        "The value we put into the brackets is the \"argument\" of the function. Let's find the square root of 9, for example."
      ],
      "metadata": {
        "id": "OTMeidpzN9Dq"
      },
      "id": "OTMeidpzN9Dq"
    },
    {
      "cell_type": "code",
      "source": [
        "sqrt(9)"
      ],
      "metadata": {
        "id": "MneIZdvzOdW_"
      },
      "id": "MneIZdvzOdW_",
      "execution_count": null,
      "outputs": []
    },
    {
      "cell_type": "markdown",
      "source": [
        "### $\\color{magenta}{\\text{Your Turn!}}$\n",
        "\n",
        " Find the square root of 49 using the sqaure root function."
      ],
      "metadata": {
        "id": "i6c95MuTOgYY"
      },
      "id": "i6c95MuTOgYY"
    },
    {
      "cell_type": "code",
      "source": [
        "#enter your code here"
      ],
      "metadata": {
        "id": "39d_OUzJOkRr"
      },
      "id": "39d_OUzJOkRr",
      "execution_count": null,
      "outputs": []
    },
    {
      "cell_type": "markdown",
      "source": [
        "Great job! In R we can also print out words using the print function, and putting the string of words in quotations. For example we can make R return \"Hello World!\""
      ],
      "metadata": {
        "id": "mUil4v64On5h"
      },
      "id": "mUil4v64On5h"
    },
    {
      "cell_type": "code",
      "source": [
        "print(\"Hello World\") #Run this line of code by hitting the \"play\" button"
      ],
      "metadata": {
        "id": "fnQPyxoeO2sY"
      },
      "id": "fnQPyxoeO2sY",
      "execution_count": null,
      "outputs": []
    },
    {
      "cell_type": "markdown",
      "source": [
        "### $\\color{magenta}{\\text{Your Turn!}}$\n",
        "\n",
        " Make R print out \"My name is [your name here]\""
      ],
      "metadata": {
        "id": "ZgVFAaWLO-I8"
      },
      "id": "ZgVFAaWLO-I8"
    },
    {
      "cell_type": "code",
      "source": [
        "#Enter your code here"
      ],
      "metadata": {
        "id": "b-_LPIzqO7VM"
      },
      "id": "b-_LPIzqO7VM",
      "execution_count": null,
      "outputs": []
    },
    {
      "cell_type": "markdown",
      "source": [
        "## $\\color{olive}{\\text{ Mean, Median, Mode, and Range}}$\n",
        "\n",
        "There are many things a data scientist might be interested in. Some summary values that are important include: Mean, Median, Mode, and Range.\n",
        "\n",
        "To investigate these concepts we will use some fake data. Our data consists of 10 values:\n",
        "  - 19, 17, 12, 17, 20, 18, 3, 8, 4, 1\n",
        "\n",
        "We will store this data in a **vector** that we will assign a name. This is called a **variable**\n",
        "  - A variable is like a name you give to something so the computer can remember it for you.\n",
        "  - In R, you use a variable when you want to save a number, word, or idea and use it later.\n",
        "  - A vector is like a list of things that all go together. It’s a way to keep a bunch of items together."
      ],
      "metadata": {
        "id": "CODkcOIbcaUT"
      },
      "id": "CODkcOIbcaUT"
    },
    {
      "cell_type": "code",
      "source": [
        "#Let's make a vector, but not save it as a variable\n",
        "c(19, 17, 12, 17, 20, 18, 3, 8, 4, 1)\n",
        "#We want to be able to access this information later, so we will save it as a variable called \"x\"\n",
        "x = c(19, 17, 12, 17, 20, 18, 3, 8, 4, 1)"
      ],
      "metadata": {
        "colab": {
          "base_uri": "https://localhost:8080/",
          "height": 34
        },
        "id": "MNYFZAN050GS",
        "outputId": "a146c169-ceeb-4837-f822-a29774481636"
      },
      "id": "MNYFZAN050GS",
      "execution_count": 8,
      "outputs": [
        {
          "output_type": "display_data",
          "data": {
            "text/html": [
              "<style>\n",
              ".list-inline {list-style: none; margin:0; padding: 0}\n",
              ".list-inline>li {display: inline-block}\n",
              ".list-inline>li:not(:last-child)::after {content: \"\\00b7\"; padding: 0 .5ex}\n",
              "</style>\n",
              "<ol class=list-inline><li>19</li><li>17</li><li>12</li><li>17</li><li>20</li><li>18</li><li>3</li><li>8</li><li>4</li><li>1</li></ol>\n"
            ],
            "text/markdown": "1. 19\n2. 17\n3. 12\n4. 17\n5. 20\n6. 18\n7. 3\n8. 8\n9. 4\n10. 1\n\n\n",
            "text/latex": "\\begin{enumerate*}\n\\item 19\n\\item 17\n\\item 12\n\\item 17\n\\item 20\n\\item 18\n\\item 3\n\\item 8\n\\item 4\n\\item 1\n\\end{enumerate*}\n",
            "text/plain": [
              " [1] 19 17 12 17 20 18  3  8  4  1"
            ]
          },
          "metadata": {}
        }
      ]
    },
    {
      "cell_type": "markdown",
      "source": [
        "### $\\color{cyan}{\\text{Mode}}$\n",
        "\n",
        "- Mode means the most common value in a group of things. It’s the one that shows up the most!\n",
        "- From my fake data \"x\", we can see the mode is 17. It shows up twice, while all the other data shows up once.\n",
        "- We can get the mode in R by using the table() function.\n",
        "  - The table() function counts how many times each item shows up in a list.\n",
        "  - It makes a mini chart that tells you:\n",
        "    - What items are in the list\n",
        "    - How often each one appear"
      ],
      "metadata": {
        "id": "ne2fHJVhW1r1"
      },
      "id": "ne2fHJVhW1r1"
    },
    {
      "cell_type": "code",
      "source": [
        "table(x)"
      ],
      "metadata": {
        "colab": {
          "base_uri": "https://localhost:8080/",
          "height": 71
        },
        "id": "1kY1de3kXI_4",
        "outputId": "ae93326e-79b9-4e9f-8e4c-450c1df0ebd1"
      },
      "id": "1kY1de3kXI_4",
      "execution_count": 9,
      "outputs": [
        {
          "output_type": "display_data",
          "data": {
            "text/plain": [
              "x\n",
              " 1  3  4  8 12 17 18 19 20 \n",
              " 1  1  1  1  1  2  1  1  1 "
            ]
          },
          "metadata": {}
        }
      ]
    },
    {
      "cell_type": "markdown",
      "source": [
        "### $\\color{cyan}{\\text{Mean}}$\n",
        "- The mean is what most people call the average. It tells you what the numbers are like on average.\n",
        "-  How Do You Find the Mean?\n",
        "  - Add up all the numbers.\n",
        "  - Divide by how many numbers there are.\n",
        "\n",
        "For our example, the average or mean is: $(19+ 17+ 12+ 17+ 20+ 18+ 3+ 8+ 4+ 1) \\div 10 = 11.9$\n",
        "\n",
        "- In R we can use the mean() function to easily calculate the mean of a vector.\n",
        "\n",
        "\n"
      ],
      "metadata": {
        "id": "CKnzJDWx6tSv"
      },
      "id": "CKnzJDWx6tSv"
    },
    {
      "cell_type": "code",
      "source": [
        "mean(x)"
      ],
      "metadata": {
        "colab": {
          "base_uri": "https://localhost:8080/",
          "height": 34
        },
        "id": "3UG7VSiE6NUc",
        "outputId": "8f8d7306-588f-4b8f-bbb3-933e6a1dd368"
      },
      "id": "3UG7VSiE6NUc",
      "execution_count": 3,
      "outputs": [
        {
          "output_type": "display_data",
          "data": {
            "text/html": [
              "11.9"
            ],
            "text/markdown": "11.9",
            "text/latex": "11.9",
            "text/plain": [
              "[1] 11.9"
            ]
          },
          "metadata": {}
        }
      ]
    },
    {
      "cell_type": "markdown",
      "source": [
        "### $\\color{cyan}{\\text{Median}}$\n",
        "\n",
        "- The median is the middle number in a list of numbers.\n",
        "- First, you put the numbers in order (from smallest to biggest). Then, you find the one in the middle. That’s the median!\n",
        "- If there are two numbers in the middle, you take the average of them. That is the median!\n",
        "\n",
        "For our example, we sort or data smallest to largest:\n",
        "  - 1, 3, 4, 8, 12, 17, 17, 18, 19, 20\n",
        "Here 12 and 17 are both in the middle, so the median is $(12+17)\\div 2 = 14.5$\n",
        "\n",
        "We can use the R function median() to easily compute the median of our vector."
      ],
      "metadata": {
        "id": "aBmOrUID8XRJ"
      },
      "id": "aBmOrUID8XRJ"
    },
    {
      "cell_type": "code",
      "source": [
        "median(x)"
      ],
      "metadata": {
        "colab": {
          "base_uri": "https://localhost:8080/",
          "height": 34
        },
        "id": "LQoKkJ0N7CUx",
        "outputId": "b0b6e083-64c2-4dd7-9f2d-4f9925b7d416"
      },
      "id": "LQoKkJ0N7CUx",
      "execution_count": 4,
      "outputs": [
        {
          "output_type": "display_data",
          "data": {
            "text/html": [
              "14.5"
            ],
            "text/markdown": "14.5",
            "text/latex": "14.5",
            "text/plain": [
              "[1] 14.5"
            ]
          },
          "metadata": {}
        }
      ]
    },
    {
      "cell_type": "markdown",
      "source": [
        "### $\\color{cyan}{\\text{Range}}$\n",
        "\n",
        "The range tells you how spread out the numbers are. It is the difference between the biggest and smallest number.\n",
        "\n",
        "For our dataset the range is $20-1=19$\n",
        "\n",
        "We can use the function max() and min() in R to find out maximumn and minimum values, then we subtract them."
      ],
      "metadata": {
        "id": "qJi4Iprw7LtJ"
      },
      "id": "qJi4Iprw7LtJ"
    },
    {
      "cell_type": "code",
      "source": [
        "max(x)-min(x)"
      ],
      "metadata": {
        "colab": {
          "base_uri": "https://localhost:8080/",
          "height": 34
        },
        "id": "EEP336rU7eSF",
        "outputId": "055fb0ca-7859-4477-e94e-fa3111fe5998"
      },
      "id": "EEP336rU7eSF",
      "execution_count": 6,
      "outputs": [
        {
          "output_type": "display_data",
          "data": {
            "text/html": [
              "19"
            ],
            "text/markdown": "19",
            "text/latex": "19",
            "text/plain": [
              "[1] 19"
            ]
          },
          "metadata": {}
        }
      ]
    },
    {
      "cell_type": "markdown",
      "source": [
        "### $\\color{magenta}{\\text{Your Turn!}}$\n",
        "\n"
      ],
      "metadata": {
        "id": "lnsn4X2l7Esx"
      },
      "id": "lnsn4X2l7Esx"
    },
    {
      "cell_type": "markdown",
      "source": [
        "Consider a collection of numbers:  2, 3, 10, 4, 19, 8, 4, 12, 4, 19,  5, 1\n",
        "\n",
        "Use R to find the mean, median, mode and range of the data!"
      ],
      "metadata": {
        "id": "Te-2iQYn7w2F"
      },
      "id": "Te-2iQYn7w2F"
    },
    {
      "cell_type": "code",
      "source": [
        "#Enter your code here."
      ],
      "metadata": {
        "id": "sncnQdW28QN4"
      },
      "id": "sncnQdW28QN4",
      "execution_count": null,
      "outputs": []
    },
    {
      "cell_type": "markdown",
      "source": [
        "## $\\color{olive}{\\text{Collecting Data}}$\n",
        "\n",
        "I am interested in some information about my friends! I will ask my friends the following information in a survery:\n",
        "  - Name, Age, number of pets, average daily screen time, number of siblings, height, how many people you follow on your favourite social media, favourite social media\n",
        "\n",
        "After handing out a survey we gathered the following information:\n",
        "\n",
        "- Danika\n",
        "  - Age: 27\n",
        "  - Number of pets: 1\n",
        "  - Average daily screen time: 9.5 hours\n",
        "  - Number of siblings: 1\n",
        "  - height: 172cm\n",
        "  - How many people you follow on your favourite social media: 452\n",
        "  - Favourite social media: instagram\n",
        "- Thuntida\n",
        "  - Age: 40\n",
        "  - Number of pets: 1\n",
        "  - Average daily screen time: 8hours\n",
        "  - Number of siblings: 1\n",
        "  - height: 158cm\n",
        "  - How many people you follow on your favourite social media: 310\n",
        "  - Favourite social media: instagram\n",
        "- Placida\n",
        "  - Age: 40\n",
        "  - Number of pets: 0\n",
        "  - Average daily screen time: 4\n",
        "  - Number of siblings: 2\n",
        "  - height: 162.5cm\n",
        "  - How many people you follow on your favourite social media: 112\n",
        "  - Favourite social media: facebook\n",
        "- Marco\n",
        "  - Age: 47\n",
        "  - Number of pets: 3\n",
        "  - Average daily screen time: 7.2hours\n",
        "  - Number of siblings: 2\n",
        "  - height: 181cm\n",
        "  - How many people you follow on your favourite social media: 300\n",
        "  - Favourite social media: X\n",
        "- Alvin\n",
        "  - Age: 32\n",
        "  - Number of pets: 1\n",
        "  - Average daily screen time: 15.3hours\n",
        "  - Number of siblings: 2\n",
        "  - height: 155cm\n",
        "  - How many people you follow on your favourite social media: 232\n",
        "  - Favourite social media: TikTok\n",
        "- Veronica\n",
        "  - Age: 31\n",
        "  - Number of pets: 2\n",
        "  - Average daily screen time: 5.2hours\n",
        "  - Number of siblings: 3\n",
        "  - height: 170cm\n",
        "  - How many people you follow on your favourite social media: 83\n",
        "  - Favourite social media: TikTok\n",
        "- Don\n",
        "  - Age: 41\n",
        "  - Number of pets: 0\n",
        "  - Average daily screen time: 11.1 hours\n",
        "  - Number of siblings: 1\n",
        "  - height: 151cm\n",
        "  - How many people you follow on your favourite social media: 230\n",
        "  - Favourite social media: instagram\n",
        "- Ryan\n",
        "  - Age: 35\n",
        "  - Number of pets: 1\n",
        "  - Average daily screen time: 13.3 hours\n",
        "  - Number of siblings: 3\n",
        "  - height: 196cm\n",
        "  - How many people you follow on your favourite social media: 336\n",
        "  - Favourite social media: TikTok\n",
        "- Maggie\n",
        "  - Age: 42\n",
        "  - Number of pets: 2\n",
        "  - Average daily screen time: 10.5 hours\n",
        "  - Number of siblings: 0\n",
        "  - height: 147cm\n",
        "  - How many people you follow on your favourite social media: 269\n",
        "  - Favourite social media: facebook\n",
        "- Aaron\n",
        "  - Age: 36\n",
        "  - Number of pets: 4\n",
        "  - Average daily screen time: 10.8 hours\n",
        "  - Number of siblings: 2\n",
        "  - height: 156cm\n",
        "  - How many people you follow on your favourite social media: 244\n",
        "  - Favourite social media:snapchat\n",
        "- Scott\n",
        "  - Age: 29\n",
        "  - Number of pets: 2\n",
        "  - Average daily screen time: 7.3 hours\n",
        "  - Number of siblings: 5\n",
        "  - height: 141cm\n",
        "  - How many people you follow on your favourite social media: 176\n",
        "  - Favourite social media: snapchat\n",
        "\n",
        "  **We need to put this data into R! We will start by storing the information in vector variables. I will name these variables something informative.**\n",
        "\n",
        "  **We need to make sure we enter the information in the correct order**"
      ],
      "metadata": {
        "id": "xtN7a2QMaPsR"
      },
      "id": "xtN7a2QMaPsR"
    },
    {
      "cell_type": "code",
      "source": [
        "Name = c(\"Danika\", \"Thuntida\", \"Placida\", \"Marco\", \"Alvin\", \"Veronica\", \"Don\", \"Ryan\", \"Maggie\", \"Aaron\", \"Scott\")\n",
        "Age = c(27, 40, 40, 47, 32, 31, 41, 35, 42, 36, 29)\n",
        "Pets = c(1, 1, 0, 3, 1, 2, 0, 1, 2, 4, 2)\n",
        "ScreenTime = c(9.5, 8, 4, 7.2, 15.3, 5.2, 11.1, 13.3, 10.5, 10.8, 7.3)\n",
        "Siblings = c(1, 1, 2, 2, 2, 3, 1, 3, 0, 2, 5)\n",
        "Height = c(172, 158, 162.5, 181, 155, 170, 151, 196, 147, 156, 141)\n",
        "Following = c(425, 310, 112, 300, 232, 83, 230, 336, 269, 244, 176)\n",
        "SocialMedia = c(\"IG\", \"IG\", \"FB\", \"X\", \"TikTok\", \"TikTok\", \"IG\", \"TikTok\", \"FB\", \"SC\", \"SC\")"
      ],
      "metadata": {
        "id": "P1gc75HS1NXs"
      },
      "id": "P1gc75HS1NXs",
      "execution_count": 2,
      "outputs": []
    },
    {
      "cell_type": "markdown",
      "source": [
        "Now that we have the data all stored in vectors, we can combine the vectors into what we call a data frame. Each row will contain information about about a different sample/person. Each column represents a type of information."
      ],
      "metadata": {
        "id": "RsnIwpkm8ai5"
      },
      "id": "RsnIwpkm8ai5"
    },
    {
      "cell_type": "code",
      "source": [
        "#Put the information into a dataframe called dataframe1\n",
        "dataframe1= data.frame(Name,Age,Pets,ScreenTime,Siblings,Height,Following,SocialMedia)\n",
        "#Now we cant print out the dataframe to look at it\n",
        "\n",
        "print(dataframe1)"
      ],
      "metadata": {
        "colab": {
          "base_uri": "https://localhost:8080/"
        },
        "id": "MT8ID3yp8xyj",
        "outputId": "2cccef99-3317-4b0c-9d8c-5e95e746d71f"
      },
      "id": "MT8ID3yp8xyj",
      "execution_count": 3,
      "outputs": [
        {
          "output_type": "stream",
          "name": "stdout",
          "text": [
            "       Name Age Pets ScreenTime Siblings Height Following SocialMedia\n",
            "1    Danika  27    1        9.5        1  172.0       425          IG\n",
            "2  Thuntida  40    1        8.0        1  158.0       310          IG\n",
            "3   Placida  40    0        4.0        2  162.5       112          FB\n",
            "4     Marco  47    3        7.2        2  181.0       300           X\n",
            "5     Alvin  32    1       15.3        2  155.0       232      TikTok\n",
            "6  Veronica  31    2        5.2        3  170.0        83      TikTok\n",
            "7       Don  41    0       11.1        1  151.0       230          IG\n",
            "8      Ryan  35    1       13.3        3  196.0       336      TikTok\n",
            "9    Maggie  42    2       10.5        0  147.0       269          FB\n",
            "10    Aaron  36    4       10.8        2  156.0       244          SC\n",
            "11    Scott  29    2        7.3        5  141.0       176          SC\n"
          ]
        }
      ]
    },
    {
      "cell_type": "markdown",
      "source": [
        "### $\\color{magenta}{\\text{Your Turn!}}$\n",
        "\n",
        "Collect data from all of the campers, and put this information into a dataframe called dataframe2."
      ],
      "metadata": {
        "id": "BIXnPbOYU-Xu"
      },
      "id": "BIXnPbOYU-Xu"
    },
    {
      "cell_type": "code",
      "source": [
        "#Enter your code here"
      ],
      "metadata": {
        "id": "ErRWG5ORVN5P"
      },
      "id": "ErRWG5ORVN5P",
      "execution_count": null,
      "outputs": []
    },
    {
      "cell_type": "markdown",
      "source": [
        "## $\\color{olive}{\\text{Extracting Data}}$\n",
        "\n",
        "- If we want to look at a particular row of data we can run the line of code:\n",
        "  - dataframe[row,]\n",
        "\n",
        "For example if we want to look at the second row of data:"
      ],
      "metadata": {
        "id": "5sKdKJsOVPsc"
      },
      "id": "5sKdKJsOVPsc"
    },
    {
      "cell_type": "code",
      "source": [
        "dataframe1[2,]"
      ],
      "metadata": {
        "colab": {
          "base_uri": "https://localhost:8080/",
          "height": 129
        },
        "id": "S8IydjVEVohe",
        "outputId": "302c5f09-0047-4e0a-fb90-f57f69c36a00"
      },
      "id": "S8IydjVEVohe",
      "execution_count": 4,
      "outputs": [
        {
          "output_type": "display_data",
          "data": {
            "text/html": [
              "<table class=\"dataframe\">\n",
              "<caption>A data.frame: 1 × 8</caption>\n",
              "<thead>\n",
              "\t<tr><th></th><th scope=col>Name</th><th scope=col>Age</th><th scope=col>Pets</th><th scope=col>ScreenTime</th><th scope=col>Siblings</th><th scope=col>Height</th><th scope=col>Following</th><th scope=col>SocialMedia</th></tr>\n",
              "\t<tr><th></th><th scope=col>&lt;chr&gt;</th><th scope=col>&lt;dbl&gt;</th><th scope=col>&lt;dbl&gt;</th><th scope=col>&lt;dbl&gt;</th><th scope=col>&lt;dbl&gt;</th><th scope=col>&lt;dbl&gt;</th><th scope=col>&lt;dbl&gt;</th><th scope=col>&lt;chr&gt;</th></tr>\n",
              "</thead>\n",
              "<tbody>\n",
              "\t<tr><th scope=row>2</th><td>Thuntida</td><td>40</td><td>1</td><td>8</td><td>1</td><td>158</td><td>310</td><td>IG</td></tr>\n",
              "</tbody>\n",
              "</table>\n"
            ],
            "text/markdown": "\nA data.frame: 1 × 8\n\n| <!--/--> | Name &lt;chr&gt; | Age &lt;dbl&gt; | Pets &lt;dbl&gt; | ScreenTime &lt;dbl&gt; | Siblings &lt;dbl&gt; | Height &lt;dbl&gt; | Following &lt;dbl&gt; | SocialMedia &lt;chr&gt; |\n|---|---|---|---|---|---|---|---|---|\n| 2 | Thuntida | 40 | 1 | 8 | 1 | 158 | 310 | IG |\n\n",
            "text/latex": "A data.frame: 1 × 8\n\\begin{tabular}{r|llllllll}\n  & Name & Age & Pets & ScreenTime & Siblings & Height & Following & SocialMedia\\\\\n  & <chr> & <dbl> & <dbl> & <dbl> & <dbl> & <dbl> & <dbl> & <chr>\\\\\n\\hline\n\t2 & Thuntida & 40 & 1 & 8 & 1 & 158 & 310 & IG\\\\\n\\end{tabular}\n",
            "text/plain": [
              "  Name     Age Pets ScreenTime Siblings Height Following SocialMedia\n",
              "2 Thuntida 40  1    8          1        158    310       IG         "
            ]
          },
          "metadata": {}
        }
      ]
    },
    {
      "cell_type": "markdown",
      "source": [
        "- If we want to extract a particular column from our dataframe we have two ways to do this:\n",
        "  - dataframe[,column]\n",
        "  - dataframe$name of column\n",
        "\n",
        "Lets extract the 4th column, which is also called ScreenTime"
      ],
      "metadata": {
        "id": "b_s6K7r1Vrbg"
      },
      "id": "b_s6K7r1Vrbg"
    },
    {
      "cell_type": "code",
      "source": [
        "dataframe1[,4]\n",
        "dataframe1$ScreenTime"
      ],
      "metadata": {
        "colab": {
          "base_uri": "https://localhost:8080/",
          "height": 52
        },
        "id": "T-aEQ7xsV4pu",
        "outputId": "d815e885-8cf6-49c7-fb9f-a2342b918ca9"
      },
      "id": "T-aEQ7xsV4pu",
      "execution_count": 5,
      "outputs": [
        {
          "output_type": "display_data",
          "data": {
            "text/html": [
              "<style>\n",
              ".list-inline {list-style: none; margin:0; padding: 0}\n",
              ".list-inline>li {display: inline-block}\n",
              ".list-inline>li:not(:last-child)::after {content: \"\\00b7\"; padding: 0 .5ex}\n",
              "</style>\n",
              "<ol class=list-inline><li>9.5</li><li>8</li><li>4</li><li>7.2</li><li>15.3</li><li>5.2</li><li>11.1</li><li>13.3</li><li>10.5</li><li>10.8</li><li>7.3</li></ol>\n"
            ],
            "text/markdown": "1. 9.5\n2. 8\n3. 4\n4. 7.2\n5. 15.3\n6. 5.2\n7. 11.1\n8. 13.3\n9. 10.5\n10. 10.8\n11. 7.3\n\n\n",
            "text/latex": "\\begin{enumerate*}\n\\item 9.5\n\\item 8\n\\item 4\n\\item 7.2\n\\item 15.3\n\\item 5.2\n\\item 11.1\n\\item 13.3\n\\item 10.5\n\\item 10.8\n\\item 7.3\n\\end{enumerate*}\n",
            "text/plain": [
              " [1]  9.5  8.0  4.0  7.2 15.3  5.2 11.1 13.3 10.5 10.8  7.3"
            ]
          },
          "metadata": {}
        },
        {
          "output_type": "display_data",
          "data": {
            "text/html": [
              "<style>\n",
              ".list-inline {list-style: none; margin:0; padding: 0}\n",
              ".list-inline>li {display: inline-block}\n",
              ".list-inline>li:not(:last-child)::after {content: \"\\00b7\"; padding: 0 .5ex}\n",
              "</style>\n",
              "<ol class=list-inline><li>9.5</li><li>8</li><li>4</li><li>7.2</li><li>15.3</li><li>5.2</li><li>11.1</li><li>13.3</li><li>10.5</li><li>10.8</li><li>7.3</li></ol>\n"
            ],
            "text/markdown": "1. 9.5\n2. 8\n3. 4\n4. 7.2\n5. 15.3\n6. 5.2\n7. 11.1\n8. 13.3\n9. 10.5\n10. 10.8\n11. 7.3\n\n\n",
            "text/latex": "\\begin{enumerate*}\n\\item 9.5\n\\item 8\n\\item 4\n\\item 7.2\n\\item 15.3\n\\item 5.2\n\\item 11.1\n\\item 13.3\n\\item 10.5\n\\item 10.8\n\\item 7.3\n\\end{enumerate*}\n",
            "text/plain": [
              " [1]  9.5  8.0  4.0  7.2 15.3  5.2 11.1 13.3 10.5 10.8  7.3"
            ]
          },
          "metadata": {}
        }
      ]
    },
    {
      "cell_type": "markdown",
      "source": [
        " - If we want to get the value from the 4th row, and 3rd column we can do that in R as follows:"
      ],
      "metadata": {
        "id": "1IuZq6sPWFgE"
      },
      "id": "1IuZq6sPWFgE"
    },
    {
      "cell_type": "code",
      "source": [
        "dataframe1[4,3]"
      ],
      "metadata": {
        "colab": {
          "base_uri": "https://localhost:8080/",
          "height": 34
        },
        "id": "kG4iOFSDWNDJ",
        "outputId": "2268413f-14a1-4ae3-ef25-118c49d442b3"
      },
      "id": "kG4iOFSDWNDJ",
      "execution_count": 6,
      "outputs": [
        {
          "output_type": "display_data",
          "data": {
            "text/html": [
              "3"
            ],
            "text/markdown": "3",
            "text/latex": "3",
            "text/plain": [
              "[1] 3"
            ]
          },
          "metadata": {}
        }
      ]
    },
    {
      "cell_type": "markdown",
      "source": [
        "We can apply some functions to our data as well! For example I can extract, the mean, median, mode and range of the Age variable."
      ],
      "metadata": {
        "id": "QjduWdqwWQAt"
      },
      "id": "QjduWdqwWQAt"
    },
    {
      "cell_type": "code",
      "source": [
        "mean(dataframe1$Age)\n",
        "median(dataframe1$Age)\n",
        "table(dataframe1$Age)\n",
        "max(dataframe1$Age) - min(dataframe1$Age)\n"
      ],
      "metadata": {
        "colab": {
          "base_uri": "https://localhost:8080/",
          "height": 123
        },
        "id": "ZJaOuXxeWfie",
        "outputId": "09ec8d8c-8507-4126-f5e7-d6dea7673744"
      },
      "id": "ZJaOuXxeWfie",
      "execution_count": 10,
      "outputs": [
        {
          "output_type": "display_data",
          "data": {
            "text/html": [
              "36.3636363636364"
            ],
            "text/markdown": "36.3636363636364",
            "text/latex": "36.3636363636364",
            "text/plain": [
              "[1] 36.36364"
            ]
          },
          "metadata": {}
        },
        {
          "output_type": "display_data",
          "data": {
            "text/html": [
              "36"
            ],
            "text/markdown": "36",
            "text/latex": "36",
            "text/plain": [
              "[1] 36"
            ]
          },
          "metadata": {}
        },
        {
          "output_type": "display_data",
          "data": {
            "text/plain": [
              "\n",
              "27 29 31 32 35 36 40 41 42 47 \n",
              " 1  1  1  1  1  1  2  1  1  1 "
            ]
          },
          "metadata": {}
        },
        {
          "output_type": "display_data",
          "data": {
            "text/html": [
              "20"
            ],
            "text/markdown": "20",
            "text/latex": "20",
            "text/plain": [
              "[1] 20"
            ]
          },
          "metadata": {}
        }
      ]
    },
    {
      "cell_type": "markdown",
      "source": [
        "The mean is 36.36, the median is 36, the mode is 40, and the range of the data is 20 years."
      ],
      "metadata": {
        "id": "eQHTI7ybWsyL"
      },
      "id": "eQHTI7ybWsyL"
    },
    {
      "cell_type": "markdown",
      "source": [
        "### $\\color{cyan}{\\text{Maximums and Minimums}}$\n",
        "\n",
        "- I can find the maximum in a dataset using max()\n",
        "- I can find the minimum in a dataset using min()\n",
        "- If I want to know where the maximum is I can use which.max()\n",
        "- If I want to know where the minimum is I can use which.min()\n",
        "\n",
        "\n",
        "For example, let's find the tallest person, the shortest person, and their heights!"
      ],
      "metadata": {
        "id": "cqC4dFl9XhDh"
      },
      "id": "cqC4dFl9XhDh"
    },
    {
      "cell_type": "code",
      "source": [
        "#find the biggest height\n",
        "max(dataframe1$Height)\n",
        "#the tallest person is 196cm\n",
        "#now I want to know which entry this is\n",
        "which.max(dataframe1$Height)\n",
        "#I can now grab the name of this person\n",
        "dataframe1$Name[which.max(dataframe1$Height)]\n",
        "#The tallest person is Ryan!\n",
        "\n",
        "#find the smallest height\n",
        "min(dataframe1$Height)\n",
        "#the shortest person is 141cm\n",
        "#now I want to know which entry this is\n",
        "which.min(dataframe1$Height)\n",
        "#I can now grab the name of this person\n",
        "dataframe1$Name[which.min(dataframe1$Height)]\n",
        "#The tallest person is Scott!"
      ],
      "metadata": {
        "colab": {
          "base_uri": "https://localhost:8080/",
          "height": 121
        },
        "id": "aRTOG3NsX9gw",
        "outputId": "a1bcfbf0-5bc5-4d4c-8472-1e4d03779d1f"
      },
      "id": "aRTOG3NsX9gw",
      "execution_count": 19,
      "outputs": [
        {
          "output_type": "display_data",
          "data": {
            "text/html": [
              "196"
            ],
            "text/markdown": "196",
            "text/latex": "196",
            "text/plain": [
              "[1] 196"
            ]
          },
          "metadata": {}
        },
        {
          "output_type": "display_data",
          "data": {
            "text/html": [
              "8"
            ],
            "text/markdown": "8",
            "text/latex": "8",
            "text/plain": [
              "[1] 8"
            ]
          },
          "metadata": {}
        },
        {
          "output_type": "display_data",
          "data": {
            "text/html": [
              "'Ryan'"
            ],
            "text/markdown": "'Ryan'",
            "text/latex": "'Ryan'",
            "text/plain": [
              "[1] \"Ryan\""
            ]
          },
          "metadata": {}
        },
        {
          "output_type": "display_data",
          "data": {
            "text/html": [
              "141"
            ],
            "text/markdown": "141",
            "text/latex": "141",
            "text/plain": [
              "[1] 141"
            ]
          },
          "metadata": {}
        },
        {
          "output_type": "display_data",
          "data": {
            "text/html": [
              "11"
            ],
            "text/markdown": "11",
            "text/latex": "11",
            "text/plain": [
              "[1] 11"
            ]
          },
          "metadata": {}
        },
        {
          "output_type": "display_data",
          "data": {
            "text/html": [
              "'Scott'"
            ],
            "text/markdown": "'Scott'",
            "text/latex": "'Scott'",
            "text/plain": [
              "[1] \"Scott\""
            ]
          },
          "metadata": {}
        }
      ]
    },
    {
      "cell_type": "markdown",
      "source": [
        "### $\\color{magenta}{\\text{Your Turn!}}$\n",
        "\n",
        "Using the data you collected and stored in dataframe2, find and report the:\n",
        "\n",
        "- mean, median, mode, and range of age\n",
        "- Who follows the least people on social media? How many people do they follow?\n",
        "- Who follows the most people on social media? How many people do they follow?"
      ],
      "metadata": {
        "id": "C96RS7hPYrMA"
      },
      "id": "C96RS7hPYrMA"
    },
    {
      "cell_type": "code",
      "source": [
        "#Enter your code here"
      ],
      "metadata": {
        "id": "CFVisYx5ZFB6"
      },
      "id": "CFVisYx5ZFB6",
      "execution_count": null,
      "outputs": []
    },
    {
      "cell_type": "markdown",
      "source": [
        "Double Click here to type out your answer!"
      ],
      "metadata": {
        "id": "08EQ82t2ZGl-"
      },
      "id": "08EQ82t2ZGl-"
    },
    {
      "cell_type": "markdown",
      "source": [
        "# $\\color{violet}{\\text{Module 2: Data Visualization }}$\n",
        "\n",
        "- histograms\n",
        "- standard deviation\n",
        "  - activity for standard deviation - skittles\n",
        "  - skews, mean, median, mode on the histogram\n",
        "- scatter plots Bivariate -introuduce new dataset"
      ],
      "metadata": {
        "id": "qC-12N-obia6"
      },
      "id": "qC-12N-obia6"
    },
    {
      "cell_type": "markdown",
      "source": [
        "# $\\color{violet}{\\text{Module 3: Analyzing data with Linear Regression}}$\n",
        "\n",
        "- correlation, SLR,\n"
      ],
      "metadata": {
        "id": "bOrOq0zngSiO"
      },
      "id": "bOrOq0zngSiO"
    }
  ],
  "metadata": {
    "kernelspec": {
      "display_name": "R",
      "language": "R",
      "name": "ir"
    },
    "language_info": {
      "codemirror_mode": "r",
      "file_extension": ".r",
      "mimetype": "text/x-r-source",
      "name": "R",
      "pygments_lexer": "r",
      "version": "4.4.1"
    },
    "colab": {
      "provenance": []
    }
  },
  "nbformat": 4,
  "nbformat_minor": 5
}